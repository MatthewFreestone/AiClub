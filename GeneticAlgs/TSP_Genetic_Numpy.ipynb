{
 "cells": [
  {
   "cell_type": "code",
   "execution_count": 1,
   "metadata": {},
   "outputs": [],
   "source": [
    "import numpy as np\n",
    "from math import sqrt\n",
    "import random\n",
    "import matplotlib.pyplot as plt\n",
    "import os"
   ]
  },
  {
   "cell_type": "markdown",
   "metadata": {},
   "source": [
    "### Dataset: Djibouti Tour\n",
    "https://www.math.uwaterloo.ca/tsp/world/countries.html#DJ    \n",
    "https://www.math.uwaterloo.ca/tsp/world/djtour.html    \n",
    "Optimal Length is 6656"
   ]
  },
  {
   "cell_type": "code",
   "execution_count": 2,
   "metadata": {},
   "outputs": [
    {
     "data": {
      "text/plain": [
       "(38, 2)"
      ]
     },
     "execution_count": 2,
     "metadata": {},
     "output_type": "execute_result"
    }
   ],
   "source": [
    "dj38 = []\n",
    "with open('./dj38_data.txt', 'r') as f:\n",
    "    data = f.read()\n",
    "points = data.split('\\n')\n",
    "for p in points:\n",
    "    a,b = map(float, p.split(' '))\n",
    "    dj38.append([a,b])\n",
    "CITIES = np.array(dj38)\n",
    "INITIAL_CITY = CITIES[0]\n",
    "CITIES_COUNT = 38\n",
    "CITIES.shape"
   ]
  },
  {
   "cell_type": "markdown",
   "metadata": {},
   "source": [
    "### Dataset: Club estabilished cities "
   ]
  },
  {
   "cell_type": "code",
   "execution_count": 12,
   "metadata": {},
   "outputs": [
    {
     "data": {
      "text/plain": [
       "(40, 2)"
      ]
     },
     "execution_count": 12,
     "metadata": {},
     "output_type": "execute_result"
    }
   ],
   "source": [
    "c = []\n",
    "with open('./club_data.txt', 'r') as f:\n",
    "    data = f.read()\n",
    "points = data.split('\\n')\n",
    "for p in points:\n",
    "    a,b = map(int, p.split(' '))\n",
    "    c.append([a,b])\n",
    "CITIES = np.array(c, dtype='int32')\n",
    "INITIAL_CITY = CITIES[0]\n",
    "CITIES_COUNT = 40\n",
    "CITIES.shape"
   ]
  },
  {
   "cell_type": "markdown",
   "metadata": {},
   "source": [
    "### Dataset: Random"
   ]
  },
  {
   "cell_type": "code",
   "execution_count": 9,
   "metadata": {
    "collapsed": true
   },
   "outputs": [
    {
     "name": "stdout",
     "output_type": "stream",
     "text": [
      "(40, 2)\n",
      "[[-9 -8]\n",
      " [-9 -3]\n",
      " [-9  1]\n",
      " [-9  4]\n",
      " [-9  7]\n",
      " [-8  5]\n",
      " [-7 -4]\n",
      " [-7 -3]\n",
      " [-7  5]\n",
      " [-7  6]\n",
      " [-6 -7]\n",
      " [-6  0]\n",
      " [-5  2]\n",
      " [-4 -6]\n",
      " [-4  0]\n",
      " [-3 -7]\n",
      " [-3  4]\n",
      " [-3  8]\n",
      " [-2  9]\n",
      " [-1  1]\n",
      " [-1  2]\n",
      " [-1  9]\n",
      " [ 0 -8]\n",
      " [ 1  3]\n",
      " [ 1  5]\n",
      " [ 2  0]\n",
      " [ 2  4]\n",
      " [ 3 -7]\n",
      " [ 3  0]\n",
      " [ 3  4]\n",
      " [ 4 -8]\n",
      " [ 4 -4]\n",
      " [ 4 -3]\n",
      " [ 4  3]\n",
      " [ 4  4]\n",
      " [ 5  1]\n",
      " [ 5  9]\n",
      " [ 6 -7]\n",
      " [ 6  2]\n",
      " [ 6  9]]\n"
     ]
    }
   ],
   "source": [
    "CITIES_COUNT = 40\n",
    "np.random.seed()\n",
    "\n",
    "CITIES = np.random.randint(-9,10, size=(1,2))\n",
    "while (CITIES.shape != (CITIES_COUNT,2)):\n",
    "    n = np.random.randint(-9,10, size=(2,))\n",
    "    if not any(np.equal(CITIES, n).all(1)):\n",
    "        CITIES = np.append(CITIES, n.reshape(1,2), axis=0)     \n",
    "        \n",
    "INITIAL_CITY = CITIES[0]\n",
    "CITIES.shape"
   ]
  },
  {
   "cell_type": "markdown",
   "metadata": {},
   "source": [
    "### Prints a sorted copy of cities"
   ]
  },
  {
   "cell_type": "code",
   "execution_count": 3,
   "metadata": {
    "collapsed": true
   },
   "outputs": [
    {
     "name": "stdout",
     "output_type": "stream",
     "text": [
      "[[11003.6111 42102.5   ]\n",
      " [11108.6111 42373.8889]\n",
      " [11133.3333 42885.8333]\n",
      " [11155.8333 42712.5   ]\n",
      " [11183.3333 42933.3333]\n",
      " [11297.5    42853.3333]\n",
      " [11310.2778 42929.4444]\n",
      " [11416.6667 42983.3333]\n",
      " [11423.8889 43000.2778]\n",
      " [11438.3333 42057.2222]\n",
      " [11461.1111 43252.7778]\n",
      " [11485.5556 43187.2222]\n",
      " [11503.0556 42855.2778]\n",
      " [11511.3889 42106.3889]\n",
      " [11522.2222 42841.9444]\n",
      " [11569.4444 43136.6667]\n",
      " [11583.3333 43150.    ]\n",
      " [11595.     43148.0556]\n",
      " [11600.     43150.    ]\n",
      " [11690.5556 42686.6667]\n",
      " [11715.8333 41836.1111]\n",
      " [11751.1111 42814.4444]\n",
      " [11770.2778 42651.9444]\n",
      " [11785.2778 42884.4444]\n",
      " [11822.7778 42673.6111]\n",
      " [11846.9444 42660.5556]\n",
      " [11963.0556 43290.5556]\n",
      " [11973.0556 43026.1111]\n",
      " [12058.3333 42195.5556]\n",
      " [12149.4444 42477.5   ]\n",
      " [12286.9444 43355.5556]\n",
      " [12300.     42433.3333]\n",
      " [12355.8333 43156.3889]\n",
      " [12363.3333 43189.1667]\n",
      " [12372.7778 42711.3889]\n",
      " [12386.6667 43334.7222]\n",
      " [12421.6667 42895.5556]\n",
      " [12645.     42973.3333]]\n"
     ]
    }
   ],
   "source": [
    "# Returns cities sorted \n",
    "a = CITIES.copy()\n",
    "a = a[a[:,1].argsort()]\n",
    "a = a[a[:,0].argsort(kind='mergesort')] #stable sort needed\n",
    "print(a)"
   ]
  },
  {
   "cell_type": "markdown",
   "metadata": {},
   "source": [
    "## Variables"
   ]
  },
  {
   "cell_type": "code",
   "execution_count": 16,
   "metadata": {},
   "outputs": [],
   "source": [
    "POPULATION_SIZE = 500\n",
    "GENERATIONS = 2500\n",
    "MUTATION_CHANCE = .2\n",
    "NUM_REPORTS = 5\n",
    "REPORT_EVERY_GEN = GENERATIONS // NUM_REPORTS"
   ]
  },
  {
   "cell_type": "markdown",
   "metadata": {},
   "source": [
    "## Run genetic alg"
   ]
  },
  {
   "cell_type": "code",
   "execution_count": 17,
   "metadata": {},
   "outputs": [
    {
     "name": "stdout",
     "output_type": "stream",
     "text": [
      "Generation 0: 1753.09646\n",
      "Generation 500: 547.08963\n",
      "Generation 1000: 529.06811\n",
      "Generation 1500: 518.60793\n",
      "Generation 2000: 518.60793\n",
      "(40, 2)\n"
     ]
    }
   ],
   "source": [
    "routes = [Route() for i in range(POPULATION_SIZE)]\n",
    "routes.sort(key=lambda x: x.f)\n",
    "\n",
    "for generation in range(GENERATIONS):\n",
    "    for i in range(0, len(routes)-2, 2):\n",
    "        #print(f\"Crossing {routes[i]} and {routes[i+1]}\")\n",
    "        r = Route.crossover(routes[i], routes[i+1])\n",
    "        routes.append(r)\n",
    "\n",
    "    routes.sort(key=lambda x: x.f)\n",
    "    routes = routes[:POPULATION_SIZE]\n",
    "    if(generation % REPORT_EVERY_GEN == 0):\n",
    "        print(f\"Generation {generation}: {routes[0].f:.5f}\")\n",
    "result = routes[0]\n",
    "\n",
    "a,b = np.where(result.path[:,0] == INITIAL_CITY[0]), np.where(result.path[:,1] == INITIAL_CITY[1])\n",
    "split = int(np.intersect1d(a,b))\n",
    "path_ans = np.append(result.path[:split], result.path[split:], axis=0)\n",
    "best_answer = Route(path_ans)\n",
    "print(best_answer.path.shape)\n",
    "#best_answer.path = np.append(result.path, result.path[0].reshape(1,2), axis=0)"
   ]
  },
  {
   "cell_type": "markdown",
   "metadata": {},
   "source": [
    "## Show Final Path"
   ]
  },
  {
   "cell_type": "code",
   "execution_count": 10,
   "metadata": {
    "collapsed": true
   },
   "outputs": [
    {
     "name": "stdout",
     "output_type": "stream",
     "text": [
      "[11003.6111 42102.5   ]\n",
      "Route: [[11003.6111 42102.5   ]\n",
      " [11108.6111 42373.8889]\n",
      " [11155.8333 42712.5   ]\n",
      " [11297.5    42853.3333]\n",
      " [11310.2778 42929.4444]\n",
      " [11133.3333 42885.8333]\n",
      " [11183.3333 42933.3333]\n",
      " [11416.6667 42983.3333]\n",
      " [11423.8889 43000.2778]\n",
      " [11503.0556 42855.2778]\n",
      " [11522.2222 42841.9444]\n",
      " [11846.9444 42660.5556]\n",
      " [11822.7778 42673.6111]\n",
      " [11770.2778 42651.9444]\n",
      " [11690.5556 42686.6667]\n",
      " [11751.1111 42814.4444]\n",
      " [11785.2778 42884.4444]\n",
      " [11973.0556 43026.1111]\n",
      " [11595.     43148.0556]\n",
      " [11569.4444 43136.6667]\n",
      " [11583.3333 43150.    ]\n",
      " [11600.     43150.    ]\n",
      " [11485.5556 43187.2222]\n",
      " [11461.1111 43252.7778]\n",
      " [11963.0556 43290.5556]\n",
      " [12286.9444 43355.5556]\n",
      " [12386.6667 43334.7222]\n",
      " [12355.8333 43156.3889]\n",
      " [12363.3333 43189.1667]\n",
      " [12645.     42973.3333]\n",
      " [12421.6667 42895.5556]\n",
      " [12372.7778 42711.3889]\n",
      " [12149.4444 42477.5   ]\n",
      " [12300.     42433.3333]\n",
      " [12058.3333 42195.5556]\n",
      " [11715.8333 41836.1111]\n",
      " [11511.3889 42106.3889]\n",
      " [11438.3333 42057.2222]]; Fitness: 7367.66963\n"
     ]
    }
   ],
   "source": [
    "print(INITIAL_CITY)\n",
    "print(best_answer)"
   ]
  },
  {
   "cell_type": "code",
   "execution_count": 18,
   "metadata": {},
   "outputs": [
    {
     "data": {
      "image/png": "[encoded data removed]",
      "text/plain": [
       "<Figure size 720x360 with 2 Axes>"
      ]
     },
     "metadata": {
      "needs_background": "light"
     },
     "output_type": "display_data"
    }
   ],
   "source": [
    "fig, [ax1,ax2] = plt.subplots(1,2, figsize=(10,5))\n",
    "c = CITIES\n",
    "s = best_answer.path\n",
    "ax1.plot(c[:, 0], c[:, 1], marker='o', linewidth=0, color='red')\n",
    "ax1.plot(INITIAL_CITY[0], INITIAL_CITY[1], marker='.', mew=3, ms=10, linewidth=0, color='green')\n",
    "ax1.set(title='Initial Dataset')\n",
    "\n",
    "ax2.plot(s[:, 0], s[:, 1], marker='o', color='b', mfc='r',mec='r')\n",
    "ax2.plot(INITIAL_CITY[0], INITIAL_CITY[1], marker='.', mew=3, ms=10, linewidth=0, color='green')\n",
    "ax2.set(title=f'Final Answer, {best_answer.f:.4f}')\n",
    "\n",
    "fig.tight_layout()\n",
    "plt.show()"
   ]
  },
  {
   "cell_type": "markdown",
   "metadata": {},
   "source": [
    "## Route Definitions"
   ]
  },
  {
   "cell_type": "code",
   "execution_count": 7,
   "metadata": {},
   "outputs": [],
   "source": [
    "class Route:\n",
    "    def __init__(self, path=None):\n",
    "        if path is not None:\n",
    "            self.path = path #numpy int array of shape (CITIES_COUNT,2)\n",
    "        else:\n",
    "            p = CITIES.copy()\n",
    "            np.random.shuffle(p)\n",
    "            self.path = p \n",
    "        self.f = self.fitness() #float scalar \n",
    "        \n",
    "    #not intended for external use \n",
    "    def fitness(self):\n",
    "        shifted = np.append(self.path[1:], self.path[:1], axis=0)\n",
    "        squared_comp = np.square((np.subtract(self.path,shifted)))\n",
    "        out = np.sum(np.sqrt(np.sum(squared_comp,axis=1)))\n",
    "        return out\n",
    "            \n",
    "    def __str__(self):\n",
    "        return f\"Route: {self.path}; Fitness: {self.f:.5f}\"\n",
    "    \n",
    "    def __repr__(self):\n",
    "        return f\"Route at {hex(id(self))}; Fitness: {self.f:.5f}\"\n",
    "\n",
    "    # may be slow \n",
    "    @staticmethod \n",
    "    def crossover(p1, p2):\n",
    "        a,b = np.random.randint(0,CITIES_COUNT, size=(2,), dtype='int32')\n",
    "        p1_dna = np.array(p1.path[min(a,b):max(a,b)])\n",
    "        # TODO find a faster way to do this\n",
    "        missing_cities = np.array([city for city in p2.path if not any(np.equal(p1_dna, city).all(1))])\n",
    "        #print(missing_cities.shape)\n",
    "        if missing_cities.shape == (0,):\n",
    "            print(p1_dna.shape)\n",
    "            print(missing_cities)\n",
    "            return Route(np.array(p1_dna)).mutate()\n",
    "        out = Route(np.append(p1_dna, missing_cities, axis=0)).mutate()\n",
    "        return out\n",
    "\n",
    "    def mutate(self):\n",
    "        if random.random() < MUTATION_CHANCE:\n",
    "            a,b = np.random.randint(0,len(self.path), size=(2,), dtype='int32')\n",
    "            t = self.path[a].copy()\n",
    "            self.path[a] = self.path[b]\n",
    "            self.path[b] = t\n",
    "            self.f = self.fitness()\n",
    "        return self\n",
    "            "
   ]
  }
 ],
 "metadata": {
  "kernelspec": {
   "display_name": "Python 3 (ipykernel)",
   "language": "python",
   "name": "python3"
  },
  "language_info": {
   "codemirror_mode": {
    "name": "ipython",
    "version": 3
   },
   "file_extension": ".py",
   "mimetype": "text/x-python",
   "name": "python",
   "nbconvert_exporter": "python",
   "pygments_lexer": "ipython3",
   "version": "3.9.6"
  }
 },
 "nbformat": 4,
 "nbformat_minor": 4
}
