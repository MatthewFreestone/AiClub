{
 "cells": [
  {
   "cell_type": "code",
   "execution_count": 4,
   "metadata": {},
   "outputs": [],
   "source": [
    "import numpy as np\n",
    "from math import sqrt\n",
    "import random\n",
    "import matplotlib.pyplot as plt\n",
    "import os"
   ]
  },
  {
   "cell_type": "markdown",
   "metadata": {},
   "source": [
    "### Dataset: Djibouti Tour\n",
    "https://www.math.uwaterloo.ca/tsp/world/countries.html#DJ    \n",
    "https://www.math.uwaterloo.ca/tsp/world/djtour.html    \n",
    "Optimal Length is 6656"
   ]
  },
  {
   "cell_type": "code",
   "execution_count": 536,
   "metadata": {},
   "outputs": [
    {
     "data": {
      "text/plain": [
       "(38, 2)"
      ]
     },
     "execution_count": 536,
     "metadata": {},
     "output_type": "execute_result"
    }
   ],
   "source": [
    "dj38 = []\n",
    "with open('./dj38_data.txt', 'r') as f:\n",
    "    data = f.read()\n",
    "points = data.split('\\n')\n",
    "for p in points:\n",
    "    a,b = map(float, p.split(' '))\n",
    "    dj38.append([a,b])\n",
    "CITIES = np.array(dj38)\n",
    "INITIAL_CITY = CITIES[0]\n",
    "CITIES_COUNT = 38\n",
    "CITIES.shape"
   ]
  },
  {
   "cell_type": "markdown",
   "metadata": {},
   "source": [
    "### Dataset: Club estabilished cities "
   ]
  },
  {
   "cell_type": "code",
   "execution_count": 24,
   "metadata": {},
   "outputs": [
    {
     "data": {
      "text/plain": [
       "(40, 2)"
      ]
     },
     "execution_count": 24,
     "metadata": {},
     "output_type": "execute_result"
    }
   ],
   "source": [
    "c = []\n",
    "with open('./club_data.txt', 'r') as f:\n",
    "    data = f.read()\n",
    "points = data.split('\\n')\n",
    "for p in points:\n",
    "    a,b = map(int, p.split(' '))\n",
    "    c.append([a,b])\n",
    "CITIES = np.array(c, dtype='int32')\n",
    "INITIAL_CITY = CITIES[0]\n",
    "CITIES_COUNT = 40\n",
    "CITIES.shape"
   ]
  },
  {
   "cell_type": "markdown",
   "metadata": {},
   "source": [
    "### Dataset: Random"
   ]
  },
  {
   "cell_type": "code",
   "execution_count": 9,
   "metadata": {
    "collapsed": true
   },
   "outputs": [
    {
     "name": "stdout",
     "output_type": "stream",
     "text": [
      "(40, 2)\n",
      "[[-9 -8]\n",
      " [-9 -3]\n",
      " [-9  1]\n",
      " [-9  4]\n",
      " [-9  7]\n",
      " [-8  5]\n",
      " [-7 -4]\n",
      " [-7 -3]\n",
      " [-7  5]\n",
      " [-7  6]\n",
      " [-6 -7]\n",
      " [-6  0]\n",
      " [-5  2]\n",
      " [-4 -6]\n",
      " [-4  0]\n",
      " [-3 -7]\n",
      " [-3  4]\n",
      " [-3  8]\n",
      " [-2  9]\n",
      " [-1  1]\n",
      " [-1  2]\n",
      " [-1  9]\n",
      " [ 0 -8]\n",
      " [ 1  3]\n",
      " [ 1  5]\n",
      " [ 2  0]\n",
      " [ 2  4]\n",
      " [ 3 -7]\n",
      " [ 3  0]\n",
      " [ 3  4]\n",
      " [ 4 -8]\n",
      " [ 4 -4]\n",
      " [ 4 -3]\n",
      " [ 4  3]\n",
      " [ 4  4]\n",
      " [ 5  1]\n",
      " [ 5  9]\n",
      " [ 6 -7]\n",
      " [ 6  2]\n",
      " [ 6  9]]\n"
     ]
    }
   ],
   "source": [
    "CITIES_COUNT = 40\n",
    "np.random.seed()\n",
    "\n",
    "CITIES = np.random.randint(-9,10, size=(1,2))\n",
    "while (CITIES.shape != (CITIES_COUNT,2)):\n",
    "    n = np.random.randint(-9,10, size=(2,))\n",
    "    if not any(np.equal(CITIES, n).all(1)):\n",
    "        CITIES = np.append(CITIES, n.reshape(1,2), axis=0)     \n",
    "        \n",
    "INITIAL_CITY = CITIES[0]\n",
    "CITIES.shape"
   ]
  },
  {
   "cell_type": "markdown",
   "metadata": {},
   "source": [
    "### Prints a sorted copy of cities"
   ]
  },
  {
   "cell_type": "code",
   "execution_count": 11,
   "metadata": {
    "collapsed": true
   },
   "outputs": [
    {
     "name": "stdout",
     "output_type": "stream",
     "text": [
      "[[ 1  2]\n",
      " [ 1 39]\n",
      " [ 2  8]\n",
      " [ 2 43]\n",
      " [ 4  4]\n",
      " [14 78]\n",
      " [15 52]\n",
      " [16 78]\n",
      " [19 20]\n",
      " [24 48]\n",
      " [24 82]\n",
      " [26 79]\n",
      " [30 88]\n",
      " [32 61]\n",
      " [34 83]\n",
      " [36  9]\n",
      " [36 63]\n",
      " [38 71]\n",
      " [42 33]\n",
      " [42 85]\n",
      " [45 26]\n",
      " [46 10]\n",
      " [49 90]\n",
      " [57 81]\n",
      " [59 25]\n",
      " [62 70]\n",
      " [66 12]\n",
      " [69 84]\n",
      " [70 65]\n",
      " [71 81]\n",
      " [75 34]\n",
      " [75 55]\n",
      " [77 28]\n",
      " [79 76]\n",
      " [81 35]\n",
      " [86  1]\n",
      " [89 37]\n",
      " [95 70]\n",
      " [97  2]\n",
      " [97 21]]\n"
     ]
    }
   ],
   "source": [
    "# Returns cities sorted \n",
    "a = CITIES.copy()\n",
    "a = a[a[:,1].argsort()]\n",
    "a = a[a[:,0].argsort(kind='mergesort')] #stable sort needed\n",
    "print(a)"
   ]
  },
  {
   "cell_type": "markdown",
   "metadata": {},
   "source": [
    "## Variables"
   ]
  },
  {
   "cell_type": "code",
   "execution_count": 112,
   "metadata": {},
   "outputs": [],
   "source": [
    "POPULATION_SIZE = 100\n",
    "GENERATIONS = 1500\n",
    "MUTATION_CHANCE = .2\n",
    "REPORT_EVERY_GEN = 250"
   ]
  },
  {
   "cell_type": "markdown",
   "metadata": {},
   "source": [
    "## Run genetic alg"
   ]
  },
  {
   "cell_type": "code",
   "execution_count": 113,
   "metadata": {},
   "outputs": [
    {
     "name": "stdout",
     "output_type": "stream",
     "text": [
      "Generation 0: 1769.00111\n",
      "Generation 250: 678.34276\n",
      "Generation 500: 556.27242\n",
      "Generation 750: 541.85792\n",
      "Generation 1000: 538.76524\n",
      "Generation 1250: 531.13723\n",
      "29\n",
      "(40, 2)\n"
     ]
    }
   ],
   "source": [
    "routes = [Route() for i in range(POPULATION_SIZE)]\n",
    "routes.sort(key=lambda x: x.f)\n",
    "\n",
    "for generation in range(GENERATIONS):\n",
    "    for i in range(0, len(routes)-2, 2):\n",
    "        #print(f\"Crossing {routes[i]} and {routes[i+1]}\")\n",
    "        r = Route.crossover(routes[i], routes[i+1])\n",
    "        routes.append(r)\n",
    "\n",
    "    routes.sort(key=lambda x: x.f)\n",
    "    routes = routes[:POPULATION_SIZE]\n",
    "    if(generation % REPORT_EVERY_GEN == 0):\n",
    "        print(f\"Generation {generation}: {routes[0].f:.5f}\")\n",
    "result = routes[0]\n",
    "\n",
    "a,b = np.where(result.path[:,0] == INITIAL_CITY[0]), np.where(result.path[:,1] == INITIAL_CITY[1])\n",
    "split = int(np.intersect1d(a,b))\n",
    "path_ans = np.append(result.path[:split], result.path[split:], axis=0)\n",
    "best_answer = Route(path_ans)\n",
    "print(best_answer.path.shape)\n",
    "#best_answer.path = np.append(result.path, result.path[0].reshape(1,2), axis=0)"
   ]
  },
  {
   "cell_type": "code",
   "execution_count": 117,
   "metadata": {},
   "outputs": [
    {
     "name": "stdout",
     "output_type": "stream",
     "text": [
      "(40, 2)\n"
     ]
    }
   ],
   "source": [
    "a,b = np.where(result.path[:,0] == INITIAL_CITY[0]), np.where(result.path[:,1] == INITIAL_CITY[1])\n",
    "split = int(np.intersect1d(a,b))\n",
    "path_ans = np.append(result.path[split:], result.path[:split], axis=0)\n",
    "best_answer = Route(path_ans)\n",
    "print(best_answer.path.shape)"
   ]
  },
  {
   "cell_type": "markdown",
   "metadata": {},
   "source": [
    "## Show Final Path"
   ]
  },
  {
   "cell_type": "code",
   "execution_count": 120,
   "metadata": {
    "collapsed": true
   },
   "outputs": [
    {
     "name": "stdout",
     "output_type": "stream",
     "text": [
      "[ 1 39]\n",
      "Route: [[ 1 39]\n",
      " [ 2 43]\n",
      " [15 52]\n",
      " [24 48]\n",
      " [32 61]\n",
      " [36 63]\n",
      " [38 71]\n",
      " [34 83]\n",
      " [26 79]\n",
      " [16 78]\n",
      " [14 78]\n",
      " [24 82]\n",
      " [30 88]\n",
      " [42 85]\n",
      " [49 90]\n",
      " [57 81]\n",
      " [62 70]\n",
      " [70 65]\n",
      " [69 84]\n",
      " [71 81]\n",
      " [79 76]\n",
      " [95 70]\n",
      " [75 55]\n",
      " [75 34]\n",
      " [77 28]\n",
      " [81 35]\n",
      " [89 37]\n",
      " [97 21]\n",
      " [97  2]\n",
      " [86  1]\n",
      " [66 12]\n",
      " [46 10]\n",
      " [59 25]\n",
      " [42 33]\n",
      " [45 26]\n",
      " [36  9]\n",
      " [ 2  8]\n",
      " [ 1  2]\n",
      " [ 4  4]\n",
      " [19 20]]; Fitness: 531.13723\n"
     ]
    }
   ],
   "source": [
    "print(INITIAL_CITY)\n",
    "print(best_answer)"
   ]
  },
  {
   "cell_type": "code",
   "execution_count": 118,
   "metadata": {},
   "outputs": [
    {
     "data": {
      "image/png": "[encoded data removed]",
      "text/plain": [
       "<Figure size 720x360 with 2 Axes>"
      ]
     },
     "metadata": {
      "needs_background": "light"
     },
     "output_type": "display_data"
    }
   ],
   "source": [
    "fig, [ax1,ax2] = plt.subplots(1,2, figsize=(10,5))\n",
    "c = CITIES\n",
    "s = best_answer.path\n",
    "ax1.plot(c[:, 0], c[:, 1], marker='o', linewidth=0, color='red')\n",
    "ax1.plot(INITIAL_CITY[0], INITIAL_CITY[1], marker='.', mew=3, ms=10, linewidth=0, color='green')\n",
    "ax1.set(title='Initial Dataset')\n",
    "\n",
    "ax2.plot(s[:, 0], s[:, 1], marker='o', color='b', mfc='r',mec='r')\n",
    "ax2.plot(INITIAL_CITY[0], INITIAL_CITY[1], marker='.', mew=3, ms=10, linewidth=0, color='green')\n",
    "ax2.set(title=f'Final Answer, {best_answer.f:.4f}')\n",
    "\n",
    "fig.tight_layout()\n",
    "plt.show()"
   ]
  },
  {
   "cell_type": "markdown",
   "metadata": {},
   "source": [
    "## Route Definitions"
   ]
  },
  {
   "cell_type": "code",
   "execution_count": 15,
   "metadata": {},
   "outputs": [],
   "source": [
    "class Route:\n",
    "    def __init__(self, path=None):\n",
    "        if path is not None:\n",
    "            self.path = path #numpy int array of shape (CITIES_COUNT,2)\n",
    "        else:\n",
    "            p = CITIES.copy()\n",
    "            np.random.shuffle(p)\n",
    "            self.path = p \n",
    "        self.f = self.fitness() #float scalar \n",
    "        \n",
    "    #not intended for external use \n",
    "    def fitness(self):\n",
    "        shifted = np.append(self.path[1:], self.path[:1], axis=0)\n",
    "        squared_comp = np.square((np.subtract(self.path,shifted)))\n",
    "        out = np.sum(np.sqrt(np.sum(squared_comp,axis=1)))\n",
    "        return out\n",
    "            \n",
    "    def __str__(self):\n",
    "        return f\"Route: {self.path}; Fitness: {self.f:.5f}\"\n",
    "    \n",
    "    def __repr__(self):\n",
    "        return f\"Route at {hex(id(self))}; Fitness: {self.f:.5f}\"\n",
    "\n",
    "    # may be slow \n",
    "    @staticmethod \n",
    "    def crossover(p1, p2):\n",
    "        a,b = np.random.randint(0,CITIES_COUNT, size=(2,), dtype='int32')\n",
    "        p1_dna = np.array(p1.path[min(a,b):max(a,b)])\n",
    "        # TODO find a faster way to do this\n",
    "        missing_cities = np.array([city for city in p2.path if not any(np.equal(p1_dna, city).all(1))])\n",
    "        #print(missing_cities.shape)\n",
    "        if missing_cities.shape == (0,):\n",
    "            print(p1_dna.shape)\n",
    "            print(missing_cities)\n",
    "            return Route(np.array(p1_dna)).mutate()\n",
    "        out = Route(np.append(p1_dna, missing_cities, axis=0)).mutate()\n",
    "        return out\n",
    "\n",
    "    def mutate(self):\n",
    "        if random.random() < MUTATION_CHANCE:\n",
    "            a,b = np.random.randint(0,len(self.path), size=(2,), dtype='int32')\n",
    "            t = self.path[a].copy()\n",
    "            self.path[a] = self.path[b]\n",
    "            self.path[b] = t\n",
    "            self.f = self.fitness()\n",
    "        return self\n",
    "            "
   ]
  }
 ],
 "metadata": {
  "kernelspec": {
   "display_name": "Python 3 (ipykernel)",
   "language": "python",
   "name": "python3"
  },
  "language_info": {
   "codemirror_mode": {
    "name": "ipython",
    "version": 3
   },
   "file_extension": ".py",
   "mimetype": "text/x-python",
   "name": "python",
   "nbconvert_exporter": "python",
   "pygments_lexer": "ipython3",
   "version": "3.9.6"
  }
 },
 "nbformat": 4,
 "nbformat_minor": 4
}
