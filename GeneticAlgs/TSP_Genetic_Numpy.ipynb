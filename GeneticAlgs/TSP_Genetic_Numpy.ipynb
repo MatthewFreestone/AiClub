{
 "cells": [
  {
   "cell_type": "code",
   "execution_count": 388,
   "metadata": {},
   "outputs": [],
   "source": [
    "import numpy as np\n",
    "from math import sqrt\n",
    "import random\n",
    "import matplotlib.pyplot as plt\n",
    "import os"
   ]
  },
  {
   "cell_type": "markdown",
   "metadata": {},
   "source": [
    "### Dataset: Djibouti Tour\n",
    "https://www.math.uwaterloo.ca/tsp/world/countries.html#DJ    \n",
    "https://www.math.uwaterloo.ca/tsp/world/djtour.html    \n",
    "Optimal Length is 6656"
   ]
  },
  {
   "cell_type": "code",
   "execution_count": 536,
   "metadata": {},
   "outputs": [
    {
     "data": {
      "text/plain": [
       "(38, 2)"
      ]
     },
     "execution_count": 536,
     "metadata": {},
     "output_type": "execute_result"
    }
   ],
   "source": [
    "dj38 = []\n",
    "with open('./dj38_data.txt', 'r') as f:\n",
    "    data = f.read()\n",
    "points = data.split('\\n')\n",
    "for p in points:\n",
    "    a,b = map(float, p.split(' '))\n",
    "    dj38.append([a,b])\n",
    "CITIES = np.array(dj38)\n",
    "CITIES_COUNT = 38\n",
    "CITIES.shape"
   ]
  },
  {
   "cell_type": "markdown",
   "metadata": {},
   "source": [
    "## Variables"
   ]
  },
  {
   "cell_type": "code",
   "execution_count": 514,
   "metadata": {},
   "outputs": [],
   "source": [
    "CITIES_COUNT = 40\n",
    "POPULATION_SIZE = 300 \n",
    "GENERATIONS = 1000\n",
    "MUTATION_CHANCE = .2\n",
    "REPORT_EVERY_GEN = 100"
   ]
  },
  {
   "cell_type": "markdown",
   "metadata": {},
   "source": [
    "## Generate Cities List"
   ]
  },
  {
   "cell_type": "code",
   "execution_count": 515,
   "metadata": {
    "scrolled": true
   },
   "outputs": [
    {
     "data": {
      "text/plain": [
       "(40, 2)"
      ]
     },
     "execution_count": 515,
     "metadata": {},
     "output_type": "execute_result"
    }
   ],
   "source": [
    "np.random.seed()\n",
    "\n",
    "CITIES = np.random.randint(-9,10, size=(1,2))\n",
    "while (CITIES.shape != (CITIES_COUNT,2)):\n",
    "    n = np.random.randint(-9,10, size=(2,))\n",
    "    if not any(np.equal(CITIES, n).all(1)):\n",
    "        CITIES = np.append(CITIES, n.reshape(1,2), axis=0)     \n",
    "#CITIES.sort(axis=1)\n",
    "#print(CITIES)\n",
    "CITIES.shape"
   ]
  },
  {
   "cell_type": "code",
   "execution_count": 443,
   "metadata": {
    "collapsed": true
   },
   "outputs": [
    {
     "name": "stdout",
     "output_type": "stream",
     "text": [
      "[[-9 -6]\n",
      " [-9  9]\n",
      " [-8  0]\n",
      " [-7  3]\n",
      " [-7  5]\n",
      " [-5 -2]\n",
      " [-4 -8]\n",
      " [-4 -1]\n",
      " [-4  0]\n",
      " [-4  7]\n",
      " [-3  1]\n",
      " [-3  2]\n",
      " [-3  4]\n",
      " [-2 -4]\n",
      " [-2 -1]\n",
      " [-2  7]\n",
      " [ 0  1]\n",
      " [ 0  5]\n",
      " [ 1  2]\n",
      " [ 1  3]\n",
      " [ 1  6]\n",
      " [ 2 -3]\n",
      " [ 3 -5]\n",
      " [ 3 -1]\n",
      " [ 3  0]\n",
      " [ 3  3]\n",
      " [ 4  0]\n",
      " [ 5 -9]\n",
      " [ 5 -3]\n",
      " [ 5  3]\n",
      " [ 5  5]\n",
      " [ 5  9]\n",
      " [ 6 -3]\n",
      " [ 7  6]\n",
      " [ 7  8]\n",
      " [ 8 -8]\n",
      " [ 8  1]\n",
      " [ 9 -9]\n",
      " [ 9  0]\n",
      " [ 9  2]]\n"
     ]
    }
   ],
   "source": [
    "# Returns cities sorted \n",
    "a = CITIES.copy()\n",
    "a = a[a[:,1].argsort()]\n",
    "a = a[a[:,0].argsort(kind='mergesort')] #stable sort needed\n",
    "print(a)"
   ]
  },
  {
   "cell_type": "markdown",
   "metadata": {},
   "source": [
    "## Run genetic alg"
   ]
  },
  {
   "cell_type": "code",
   "execution_count": 537,
   "metadata": {},
   "outputs": [
    {
     "name": "stdout",
     "output_type": "stream",
     "text": [
      "Generation 0: 22202.43080\n",
      "Generation 100: 10965.03460\n",
      "Generation 200: 8623.54117\n",
      "Generation 300: 8265.45944\n",
      "Generation 400: 7977.93961\n",
      "Generation 500: 7702.19277\n",
      "Generation 600: 7634.43414\n",
      "Generation 700: 7475.24740\n",
      "Generation 800: 7475.00912\n",
      "Generation 900: 7474.93798\n",
      "(39, 2)\n"
     ]
    }
   ],
   "source": [
    "#paths = [random.sample(CITIES, k=len(CITIES)) for i in range(POPULATION_SIZE)]\n",
    "routes = [Route() for i in range(POPULATION_SIZE)]\n",
    "routes.sort(key=lambda x: x.f)\n",
    "\n",
    "for generation in range(GENERATIONS):\n",
    "    for i in range(0, len(routes)-2, 2):\n",
    "        #print(f\"Crossing {routes[i]} and {routes[i+1]}\")\n",
    "        r = Route.crossover(routes[i], routes[i+1])\n",
    "        routes.append(r)\n",
    "\n",
    "    routes.sort(key=lambda x: x.f)\n",
    "    routes = routes[:POPULATION_SIZE]\n",
    "    if(generation % REPORT_EVERY_GEN == 0):\n",
    "        print(f\"Generation {generation}: {routes[0].f:.5f}\")\n",
    "best_answer = routes[0]\n",
    "best_answer.path = np.append(best_answer.path, best_answer.path[0].reshape(1,2), axis=0)\n",
    "print(best_answer.path.shape)"
   ]
  },
  {
   "cell_type": "markdown",
   "metadata": {},
   "source": [
    "## Show Final Path"
   ]
  },
  {
   "cell_type": "code",
   "execution_count": 538,
   "metadata": {},
   "outputs": [
    {
     "data": {
      "image/png": "[encoded data removed]",
      "text/plain": [
       "<Figure size 720x360 with 2 Axes>"
      ]
     },
     "metadata": {
      "needs_background": "light"
     },
     "output_type": "display_data"
    }
   ],
   "source": [
    "#print(routes[0])\n",
    "#print(CITIES)\n",
    "fig, [ax1,ax2] = plt.subplots(1,2, figsize=(10,5))\n",
    "c = CITIES\n",
    "s = best_answer.path\n",
    "ax1.plot(c[:, 0], c[:, 1], marker='o', linewidth=0, color='red')\n",
    "ax1.set(title='Initial Dataset')\n",
    "# ax1.set_xlim([-10, 10])\n",
    "# ax1.set_ylim([-10, 10])\n",
    "\n",
    "ax2.plot(s[:, 0], s[:, 1], marker='o', color='b', mfc='r',mec='r')\n",
    "ax2.set(title=f'Final Answer, {best_answer.f:.4f}')\n",
    "# ax2.set_xlim([-10, 10])\n",
    "# ax2.set_ylim([-10, 10])\n",
    "\n",
    "fig.tight_layout()\n",
    "plt.show()"
   ]
  },
  {
   "cell_type": "markdown",
   "metadata": {},
   "source": [
    "## Route Definitions"
   ]
  },
  {
   "cell_type": "code",
   "execution_count": 501,
   "metadata": {},
   "outputs": [],
   "source": [
    "class Route:\n",
    "    def __init__(self, path=None):\n",
    "        if path is not None:\n",
    "            self.path = path #numpy int array of shape (CITIES_COUNT,2)\n",
    "        else:\n",
    "            p = CITIES.copy()\n",
    "            np.random.shuffle(p)\n",
    "            self.path = p \n",
    "        self.f = self.fitness() #float scalar \n",
    "        \n",
    "    #not intended for external use \n",
    "    def fitness(self):\n",
    "        shifted = np.append(self.path[1:], self.path[:1], axis=0)\n",
    "        squared_comp = np.square((np.subtract(self.path,shifted)))\n",
    "        out = np.sum(np.sqrt(np.sum(squared_comp,axis=1)))\n",
    "        return out\n",
    "            \n",
    "    def __str__(self):\n",
    "        return f\"Route: {self.path}; Fitness: {self.f:.5f}\"\n",
    "    \n",
    "    def __repr__(self):\n",
    "        return f\"Route at {hex(id(self))}; Fitness: {self.f:.5f}\"\n",
    "\n",
    "    # may be slow \n",
    "    @staticmethod \n",
    "    def crossover(p1, p2):\n",
    "        a,b = np.random.randint(0,CITIES_COUNT, size=(2,), dtype='int32')\n",
    "        p1_dna = np.array(p1.path[min(a,b):max(a,b)])\n",
    "        # TODO find a faster way to do this\n",
    "        missing_cities = np.array([city for city in p2.path if not any(np.equal(p1_dna, city).all(1))])\n",
    "        #print(missing_cities.shape)\n",
    "        if missing_cities.shape == (0,):\n",
    "            print(p1_dna.shape)\n",
    "            print(missing_cities)\n",
    "            return Route(np.array(p1_dna)).mutate()\n",
    "        out = Route(np.append(p1_dna, missing_cities, axis=0)).mutate()\n",
    "        return out\n",
    "\n",
    "    def mutate(self):\n",
    "        if random.random() < MUTATION_CHANCE:\n",
    "            a,b = np.random.randint(0,len(self.path), size=(2,), dtype='int32')\n",
    "            t = self.path[a].copy()\n",
    "            self.path[a] = self.path[b]\n",
    "            self.path[b] = t\n",
    "            self.f = self.fitness()\n",
    "        return self\n",
    "            "
   ]
  }
 ],
 "metadata": {
  "kernelspec": {
   "display_name": "Python 3 (ipykernel)",
   "language": "python",
   "name": "python3"
  },
  "language_info": {
   "codemirror_mode": {
    "name": "ipython",
    "version": 3
   },
   "file_extension": ".py",
   "mimetype": "text/x-python",
   "name": "python",
   "nbconvert_exporter": "python",
   "pygments_lexer": "ipython3",
   "version": "3.9.6"
  }
 },
 "nbformat": 4,
 "nbformat_minor": 4
}
