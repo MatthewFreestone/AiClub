{
 "cells": [
  {
   "cell_type": "markdown",
   "metadata": {
    "id": "AsNXM0aKRi5B"
   },
   "source": [
    "This sets up the problem.  We have a starter city and 39 other cities.  A route consists of an ordering of the 39 other cities and has a cost of the distance from the starting city, through each of the other cities, and then back to the starting city.\n",
    "\n",
    "For example, if the starting city is (1,1) and the other cities are \\[(1,2), (2,2)\\], the cost is\n",
    "dist((1,1), (1,2)) + dist((1,2), (2,2)) + dist((2,2),(1,1)) = 1 + 1 + sqrt(2) = 3.414...\n",
    "\n",
    "You need to write:\n",
    "*   The dist function: It takes in two cities (which are a 2-element tuple of integers), and should output the distance inbetween them\n",
    "*   The get_cost function: It takes in a Route object self (whose cities can be accessed by self.cities) and outputs the cost, as defined above, of the Route\n",
    "\n"
   ]
  },
  {
   "cell_type": "code",
   "execution_count": 12,
   "metadata": {
    "id": "vHlxRaJ7RhGp"
   },
   "outputs": [],
   "source": [
    "from math import sqrt\n",
    "import random\n",
    "\n",
    "START_CITY = (1, 39)\n",
    "OTHER_CITIES = [(75, 55), (2, 8), (45, 26), (46, 10), (49, 90), (70, 65), (1, 2), (71, 81), (36, 63), (62, 70), (97, 2), (4, 4), (89, 37), (66, 12), (69, 84), (81, 35), (42, 33), (14, 78), (24, 82), (97, 21), (26, 79), (38, 71), (75, 34), (86, 1), (79, 76), (24, 48), (34, 83), (2, 43), (77, 28), (36, 9), (32, 61), (57, 81), (59, 25), (19, 20), (16, 78), (30, 88), (15, 52), (42, 85), (95, 70)]\n",
    "\n",
    "def dist(a, b):\n",
    "    return sqrt((a[0]-b[0])**2 + (a[1]-b[1])**2)\n",
    "\n",
    "class Route:\n",
    "    def get_cost(self):\n",
    "        d = dist(START_CITY, self.cities[0]) + dist(START_CITY, self.cities[-1])\n",
    "        for i in range(len(self.cities)-1):\n",
    "            d += dist(self.cities[i], self.cities[i+1])\n",
    "        return d\n",
    "        \n",
    "            \n",
    "\n",
    "    def __init__(self, route):\n",
    "        assert len(route) == 39 #this checks if the route has exactly 39 cities.  If not, an exception is thrown\n",
    "        assert all([city in route for city in OTHER_CITIES])    #this makes sure each city in OTHER_CITIES is in the route\n",
    "        #together, the two above lines make sure the route is an ordering of the OTHER_CITIES\n",
    "        self.cities = route\n",
    "        self.fitness = -1 * self.get_cost()\n",
    "    \n",
    "    def __repr__(self):\n",
    "        return f'Route({self.cities})'\n",
    "    \n",
    "    @staticmethod\n",
    "    def random():\n",
    "        cities = OTHER_CITIES[:]\n",
    "        random.shuffle(cities)\n",
    "        return Route(cities)"
   ]
  },
  {
   "cell_type": "markdown",
   "metadata": {
    "id": "MS9o_D8_VQBk"
   },
   "source": [
    "Here are some tests for the above two methods you had to implement.  They aren't very exhaustive, but should provide a decent smoke test to see if anything's really wrong."
   ]
  },
  {
   "cell_type": "code",
   "execution_count": 13,
   "metadata": {
    "colab": {
     "base_uri": "https://localhost:8080/"
    },
    "id": "V4FOTsMdVQbo",
    "outputId": "dad70309-5531-42e9-a9dc-cdd96ca12c72"
   },
   "outputs": [
    {
     "name": "stdout",
     "output_type": "stream",
     "text": [
      "dist passes tests\n",
      "get_route passes tests\n"
     ]
    }
   ],
   "source": [
    "if (dist((0,0),(0,0)) != -1):\n",
    "    assert dist((1,1), (1,3)) == 2\n",
    "    assert dist((5,5), (5,9)) == 4\n",
    "    d = dist((3,7), (20,15))    #should be sqrt(353) == 18.788...\n",
    "    assert d > 18.7 and d < 18.8\n",
    "    print(\"dist passes tests\")\n",
    "else:\n",
    "    print(\"dist not yet implemented, test skipped\")\n",
    "if Route(OTHER_CITIES).get_cost() != -1:\n",
    "    c = Route(OTHER_CITIES).get_cost()\n",
    "    assert c>2249 and c<2250\n",
    "    c = Route(OTHER_CITIES[1:]+OTHER_CITIES[:1]).get_cost()\n",
    "    assert c>2119 and c<2220\n",
    "    print(\"get_route passes tests\")\n",
    "else:\n",
    "    print(\"get_cost not yet implemented, test skipped\")"
   ]
  },
  {
   "cell_type": "markdown",
   "metadata": {
    "id": "P2Ob0M9Zbfn7"
   },
   "source": [
    "Parent Selection methods will go here.  These methods will receive the parents in decending order of fitness (so parents\\[0\\] is the most fit individual) produce a mating pool of size 2*OFFSPRING_SIZE (represented as a list).  The parents list should not be changed.\n",
    "\n",
    "We'll add more methods later, but currently, we'll just do full random.  To implement this, you need to generate a list of 2*OFFSPRING_SIZE, where each entry is a random selection from parents."
   ]
  },
  {
   "cell_type": "code",
   "execution_count": 16,
   "metadata": {
    "id": "mJYClOLlbrHM"
   },
   "outputs": [],
   "source": [
    "def random_selection(parents):\n",
    "    selected = []\n",
    "    for i in range(200):\n",
    "        selected.append(random.choice(parents))\n",
    "    return selected"
   ]
  },
  {
   "cell_type": "markdown",
   "metadata": {
    "id": "CvWL6HXXiGl8"
   },
   "source": [
    "Crossover methods will go here.  These methods will receive the two parents' list of cities, then create and return a child list out of the two.  The child list must be a legal list of cities.\n",
    "\n",
    "We'll add more methods later, but currently, we'll use the following algorithm:\n",
    "1.   Pick a random number n in the range \\[1, 38\\]\n",
    "2.   Copy the first n cities over from parent 1 to form the child's cities\n",
    "3.   For each city in parent two, append it to the child's cities if it is not already in the list."
   ]
  },
  {
   "cell_type": "code",
   "execution_count": 22,
   "metadata": {
    "id": "PxBgUIj2jiK2"
   },
   "outputs": [],
   "source": [
    "def copy_first_n(p1, p2):\n",
    "    out = p1[:random.randint(1,38)]\n",
    "    [out.append(city) for city in p2 if city not in out]\n",
    "#     for city in p2:\n",
    "#         if city not in out:\n",
    "#             out.append(city)\n",
    "    return out"
   ]
  },
  {
   "cell_type": "markdown",
   "metadata": {
    "id": "4Ux3V3TbhDjM"
   },
   "source": [
    "Mutation methods will go here.  These methods will receive the list of cities that is being considered for an offspring, and change it in some way.  Returning the list is not necessary.\n",
    "\n",
    "We'll add more methods later, but currently, we'll just do no mutation."
   ]
  },
  {
   "cell_type": "code",
   "execution_count": 23,
   "metadata": {
    "id": "osrBkAzwhXIM"
   },
   "outputs": [],
   "source": [
    "def no_mutation(cities):\n",
    "    pass\n",
    "    #return cities"
   ]
  },
  {
   "cell_type": "markdown",
   "metadata": {
    "id": "85DjSzCTkH5V"
   },
   "source": [
    "Survival methods will go here.  These methods take in a list of parents and offspring and output a list of surviving routes.  The input lists are in descending order of fitness, and the output list needs to be of length POPULATION_SIZE.\n",
    "\n",
    "We'll add more methods later, but currently, we'll take the POPULATION_SIZE most fit of the parents and children."
   ]
  },
  {
   "cell_type": "code",
   "execution_count": 19,
   "metadata": {
    "id": "H-x2wioJlC6c"
   },
   "outputs": [],
   "source": [
    "def parent_and_children_direct_competition(parents, children):\n",
    "    new_pop = parents+children\n",
    "    new_pop.sort(key=lambda x:x.fitness, reversed=True)\n",
    "    return new_pop[:POPULATION_SIZE]"
   ]
  },
  {
   "cell_type": "markdown",
   "metadata": {
    "id": "4ZVFmH3gmBn9"
   },
   "source": [
    "And that's it in terms of methods we need.  Now, we'll supply some parameters"
   ]
  },
  {
   "cell_type": "code",
   "execution_count": 20,
   "metadata": {
    "id": "Rdr8cr9JmIoo"
   },
   "outputs": [],
   "source": [
    "POPULATION_SIZE = 100\n",
    "OFFSPRING_SIZE = 100\n",
    "GENERATIONS = 500\n",
    "\n",
    "selection_method = random_selection\n",
    "crossover_method = copy_first_n\n",
    "mutation_method  = no_mutation\n",
    "survival_method  = parent_and_children_direct_competition"
   ]
  }
 ],
 "metadata": {
  "colab": {
   "name": "Copy of 09/09 Genetic Salesman.ipynb",
   "provenance": []
  },
  "kernelspec": {
   "display_name": "Python 3 (ipykernel)",
   "language": "python",
   "name": "python3"
  },
  "language_info": {
   "codemirror_mode": {
    "name": "ipython",
    "version": 3
   },
   "file_extension": ".py",
   "mimetype": "text/x-python",
   "name": "python",
   "nbconvert_exporter": "python",
   "pygments_lexer": "ipython3",
   "version": "3.9.6"
  }
 },
 "nbformat": 4,
 "nbformat_minor": 1
}
