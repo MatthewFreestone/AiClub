{
 "cells": [
  {
   "cell_type": "code",
   "execution_count": 31,
   "metadata": {},
   "outputs": [],
   "source": [
    "import numpy as np\n",
    "from math import sqrt\n",
    "import random\n",
    "import matplotlib.pyplot as plt\n",
    "import os"
   ]
  },
  {
   "cell_type": "markdown",
   "metadata": {},
   "source": [
    "### Dataset: Circle"
   ]
  },
  {
   "cell_type": "code",
   "execution_count": 21,
   "metadata": {},
   "outputs": [
    {
     "data": {
      "text/plain": [
       "(50, 2)"
      ]
     },
     "execution_count": 21,
     "metadata": {},
     "output_type": "execute_result"
    }
   ],
   "source": [
    "# generate random points in a circle\n",
    "num_samples = 50\n",
    "radius = 1\n",
    "\n",
    "# make a simple unit circle \n",
    "theta = np.linspace(0, 2*np.pi, num_samples)\n",
    "a, b = radius * np.cos(theta), radius * np.sin(theta)\n",
    "c = np.concatenate((a.reshape(num_samples,1), b.reshape(num_samples,1)), axis=1)\n",
    "\n",
    "# fig, ax = plt.subplots(figsize=(5,5))\n",
    "# # plt.figure(figsize=(7,6))\n",
    "# ax.plot(c[:, 0], c[:, 1], marker='o', linewidth=0, color='red')\n",
    "# plt.show()\n",
    "np.random.shuffle(c)\n",
    "CITIES = c\n",
    "INITIAL_CITY = CITIES[0]\n",
    "CITIES_COUNT = num_samples\n",
    "OPTIMAL = 2 * np.pi * radius\n",
    "CITIES.shape"
   ]
  },
  {
   "cell_type": "markdown",
   "metadata": {},
   "source": [
    "### Dataset: Djibouti Tour\n",
    "https://www.math.uwaterloo.ca/tsp/world/countries.html#DJ    \n",
    "https://www.math.uwaterloo.ca/tsp/world/djtour.html    \n",
    "Optimal Length is 6656"
   ]
  },
  {
   "cell_type": "code",
   "execution_count": 27,
   "metadata": {},
   "outputs": [
    {
     "data": {
      "text/plain": [
       "(38, 2)"
      ]
     },
     "execution_count": 27,
     "metadata": {},
     "output_type": "execute_result"
    }
   ],
   "source": [
    "dj38 = []\n",
    "with open('./dj38_data.txt', 'r') as f:\n",
    "    data = f.read()\n",
    "points = data.split('\\n')\n",
    "for p in points:\n",
    "    a,b = map(float, p.split(' '))\n",
    "    dj38.append([a,b])\n",
    "CITIES = np.array(dj38)\n",
    "INITIAL_CITY = CITIES[0]\n",
    "CITIES_COUNT = 38\n",
    "OPTIMAL = 6656\n",
    "CITIES.shape"
   ]
  },
  {
   "cell_type": "markdown",
   "metadata": {},
   "source": [
    "### Dataset: Club estabilished cities "
   ]
  },
  {
   "cell_type": "code",
   "execution_count": 32,
   "metadata": {},
   "outputs": [
    {
     "data": {
      "text/plain": [
       "(40, 2)"
      ]
     },
     "execution_count": 32,
     "metadata": {},
     "output_type": "execute_result"
    }
   ],
   "source": [
    "c = []\n",
    "with open('./club_data.txt', 'r') as f:\n",
    "    data = f.read()\n",
    "points = data.split('\\n')\n",
    "for p in points:\n",
    "    a,b = map(int, p.split(' '))\n",
    "    c.append([a,b])\n",
    "CITIES = np.array(c, dtype='int32')\n",
    "INITIAL_CITY = CITIES[0]\n",
    "CITIES_COUNT = 40\n",
    "OPTIMAL = None\n",
    "CITIES.shape"
   ]
  },
  {
   "cell_type": "markdown",
   "metadata": {},
   "source": [
    "### Dataset: Random"
   ]
  },
  {
   "cell_type": "code",
   "execution_count": 19,
   "metadata": {},
   "outputs": [
    {
     "data": {
      "text/plain": [
       "(7, 2)"
      ]
     },
     "execution_count": 19,
     "metadata": {},
     "output_type": "execute_result"
    }
   ],
   "source": [
    "CITIES_COUNT = 40\n",
    "np.random.seed()\n",
    "\n",
    "CITIES = np.random.randint(-9,10, size=(1,2))\n",
    "while (CITIES.shape != (CITIES_COUNT,2)):\n",
    "    n = np.random.randint(-9,10, size=(2,))\n",
    "    if not any(np.equal(CITIES, n).all(1)):\n",
    "        CITIES = np.append(CITIES, n.reshape(1,2), axis=0)     \n",
    "        \n",
    "INITIAL_CITY = CITIES[0]\n",
    "OPTIMAL = None\n",
    "CITIES.shape"
   ]
  },
  {
   "cell_type": "markdown",
   "metadata": {},
   "source": [
    "### Prints a sorted copy of cities"
   ]
  },
  {
   "cell_type": "code",
   "execution_count": 3,
   "metadata": {
    "collapsed": true
   },
   "outputs": [
    {
     "name": "stdout",
     "output_type": "stream",
     "text": [
      "[[11003.6111 42102.5   ]\n",
      " [11108.6111 42373.8889]\n",
      " [11133.3333 42885.8333]\n",
      " [11155.8333 42712.5   ]\n",
      " [11183.3333 42933.3333]\n",
      " [11297.5    42853.3333]\n",
      " [11310.2778 42929.4444]\n",
      " [11416.6667 42983.3333]\n",
      " [11423.8889 43000.2778]\n",
      " [11438.3333 42057.2222]\n",
      " [11461.1111 43252.7778]\n",
      " [11485.5556 43187.2222]\n",
      " [11503.0556 42855.2778]\n",
      " [11511.3889 42106.3889]\n",
      " [11522.2222 42841.9444]\n",
      " [11569.4444 43136.6667]\n",
      " [11583.3333 43150.    ]\n",
      " [11595.     43148.0556]\n",
      " [11600.     43150.    ]\n",
      " [11690.5556 42686.6667]\n",
      " [11715.8333 41836.1111]\n",
      " [11751.1111 42814.4444]\n",
      " [11770.2778 42651.9444]\n",
      " [11785.2778 42884.4444]\n",
      " [11822.7778 42673.6111]\n",
      " [11846.9444 42660.5556]\n",
      " [11963.0556 43290.5556]\n",
      " [11973.0556 43026.1111]\n",
      " [12058.3333 42195.5556]\n",
      " [12149.4444 42477.5   ]\n",
      " [12286.9444 43355.5556]\n",
      " [12300.     42433.3333]\n",
      " [12355.8333 43156.3889]\n",
      " [12363.3333 43189.1667]\n",
      " [12372.7778 42711.3889]\n",
      " [12386.6667 43334.7222]\n",
      " [12421.6667 42895.5556]\n",
      " [12645.     42973.3333]]\n"
     ]
    }
   ],
   "source": [
    "# Returns cities sorted \n",
    "a = CITIES.copy()\n",
    "a = a[a[:,1].argsort()]\n",
    "a = a[a[:,0].argsort(kind='mergesort')] #stable sort needed\n",
    "print(a)"
   ]
  },
  {
   "cell_type": "markdown",
   "metadata": {},
   "source": [
    " "
   ]
  },
  {
   "cell_type": "markdown",
   "metadata": {},
   "source": [
    "# Variables"
   ]
  },
  {
   "cell_type": "code",
   "execution_count": 33,
   "metadata": {},
   "outputs": [],
   "source": [
    "POPULATION_SIZE = 500\n",
    "OFFSPRING_SIZE = POPULATION_SIZE\n",
    "GENERATIONS = 1500\n",
    "MUTATION_CHANCE = .3\n",
    "NUM_REPORTS = 10\n",
    "ELITISM = 2\n",
    "\n",
    "CROSSOVER_METHOD = crossover_ordinary\n",
    "#CROSSOVER_METHOD = crossover_old\n",
    "\n",
    "# MUTATE_METHOD = no_mutation \n",
    "# MUTATE_METHOD = swap_mutate\n",
    "MUTATE_METHOD = flip_mutation\n",
    "\n",
    "PARENT_SELECTION_METHOD = random_selection\n",
    "\n",
    "SURVIVAL_METHOD = kill_weakest\n",
    "# SURVIVAL_METHOD = k_elitism"
   ]
  },
  {
   "cell_type": "markdown",
   "metadata": {},
   "source": [
    "## Run genetic alg"
   ]
  },
  {
   "cell_type": "code",
   "execution_count": 34,
   "metadata": {
    "scrolled": false
   },
   "outputs": [
    {
     "name": "stdout",
     "output_type": "stream",
     "text": [
      "Generation 0: 1679.6800\n",
      "Generation 150: 508.4546\n",
      "Generation 300: 508.2890\n",
      "Generation 450: 508.2890\n",
      "Generation 600: 508.2890\n",
      "Generation 750: 508.2890\n",
      "Generation 900: 508.2890\n",
      "Generation 1050: 508.2890\n",
      "Generation 1200: 508.2890\n",
      "Generation 1350: 508.2890\n",
      "500\n",
      "Best length: 508.2890\n"
     ]
    }
   ],
   "source": [
    "np.random.seed()\n",
    "random.seed()\n",
    "best_answer = run_ga(CROSSOVER_METHOD, MUTATE_METHOD, PARENT_SELECTION_METHOD, SURVIVAL_METHOD)\n",
    "print(f\"Best length: {best_answer.f:.4f}\")\n",
    "\n",
    "#if an optimal length is known \n",
    "if OPTIMAL is not None:\n",
    "    print(f\"Optimal Length: {OPTIMAL:.4f}, {100*(OPTIMAL / best_answer.f):.2f} %\")"
   ]
  },
  {
   "cell_type": "code",
   "execution_count": 40,
   "metadata": {},
   "outputs": [
    {
     "name": "stdout",
     "output_type": "stream",
     "text": [
      "[ 1 39]\n"
     ]
    }
   ],
   "source": [
    "print(INITIAL_CITY)"
   ]
  },
  {
   "cell_type": "code",
   "execution_count": 45,
   "metadata": {},
   "outputs": [
    {
     "data": {
      "text/plain": [
       "array([[75, 55],\n",
       "       [70, 65],\n",
       "       [95, 70],\n",
       "       [79, 76],\n",
       "       [71, 81],\n",
       "       [69, 84],\n",
       "       [62, 70],\n",
       "       [57, 81],\n",
       "       [49, 90],\n",
       "       [42, 85],\n",
       "       [34, 83],\n",
       "       [30, 88],\n",
       "       [24, 82],\n",
       "       [14, 78],\n",
       "       [16, 78],\n",
       "       [26, 79],\n",
       "       [38, 71],\n",
       "       [36, 63],\n",
       "       [32, 61],\n",
       "       [24, 48],\n",
       "       [15, 52],\n",
       "       [ 2, 43],\n",
       "       [ 1, 39],\n",
       "       [ 2,  8],\n",
       "       [ 1,  2],\n",
       "       [ 4,  4],\n",
       "       [19, 20],\n",
       "       [42, 33],\n",
       "       [45, 26],\n",
       "       [36,  9],\n",
       "       [46, 10],\n",
       "       [59, 25],\n",
       "       [66, 12],\n",
       "       [86,  1],\n",
       "       [97,  2],\n",
       "       [97, 21],\n",
       "       [89, 37],\n",
       "       [81, 35],\n",
       "       [77, 28],\n",
       "       [75, 34],\n",
       "       [75, 55]])"
      ]
     },
     "execution_count": 45,
     "metadata": {},
     "output_type": "execute_result"
    }
   ],
   "source": [
    "best_answer.path"
   ]
  },
  {
   "cell_type": "markdown",
   "metadata": {},
   "source": [
    "## Show Final Path"
   ]
  },
  {
   "cell_type": "code",
   "execution_count": 41,
   "metadata": {},
   "outputs": [
    {
     "data": {
      "image/png": "[encoded data removed]",
      "text/plain": [
       "<Figure size 720x360 with 2 Axes>"
      ]
     },
     "metadata": {
      "needs_background": "light"
     },
     "output_type": "display_data"
    }
   ],
   "source": [
    "fig, [ax1,ax2] = plt.subplots(1,2, figsize=(10,5))\n",
    "s = best_answer.path\n",
    "ax1.plot(CITIES[:, 0], CITIES[:, 1], marker='o', linewidth=0, color='red', ms=3)\n",
    "ax1.plot(INITIAL_CITY[0], INITIAL_CITY[1], marker='.', mew=3, ms=5, linewidth=0, color='green')\n",
    "ax1.set(title='Initial Dataset')\n",
    "\n",
    "ax2.plot(s[:-1, 0], s[:-1, 1], marker='o', color='b', mfc='r',mec='r', ms=3, linewidth=1)\n",
    "ax2.plot(INITIAL_CITY[0], INITIAL_CITY[1], marker='.', mew=3, ms=5, linewidth=0, color='green')\n",
    "ax2.set(title=f'Final Answer, {best_answer.f:.4f}')\n",
    "\n",
    "fig.tight_layout()\n",
    "plt.show()"
   ]
  },
  {
   "cell_type": "markdown",
   "metadata": {},
   "source": [
    "# Genetic Alg definition"
   ]
  },
  {
   "cell_type": "code",
   "execution_count": 11,
   "metadata": {},
   "outputs": [],
   "source": [
    "def run_ga(crossover, mutate, parent_selection, survival):\n",
    "    population = [Route() for _ in range(POPULATION_SIZE)]\n",
    "    population.sort(key=lambda x: x.f)\n",
    "\n",
    "    for generation in range(GENERATIONS):\n",
    "        parents = parent_selection(population)\n",
    "        children = []\n",
    "        for i in range(0,len(parents)-2,2):\n",
    "            c = crossover(parents[i], parents[i+1])\n",
    "            if random.random() < MUTATION_CHANCE:\n",
    "                c = mutate(c)\n",
    "            children.append(c)\n",
    "\n",
    "        population = survival(population, children)\n",
    "        #population.sort(key=lambda x: x.f)\n",
    "        if(generation % (GENERATIONS // NUM_REPORTS) == 0):\n",
    "            print(f\"Generation {generation}: {population[0].f:.4f}\")\n",
    "    result = population[0]\n",
    "    print(len(population))\n",
    "    \n",
    "    a,b = np.where(result.path[:,0] == INITIAL_CITY[0]), np.where(result.path[:,1] == INITIAL_CITY[1])\n",
    "    split = int(np.intersect1d(a,b))\n",
    "    path_ans = np.append(result.path[:split], result.path[split:], axis=0)\n",
    "    best_answer = Route(path_ans)\n",
    "    best_answer.path = np.append(result.path, result.path[0].reshape(1,2), axis=0)\n",
    "    return best_answer"
   ]
  },
  {
   "cell_type": "markdown",
   "metadata": {},
   "source": [
    "## Route Definitions"
   ]
  },
  {
   "cell_type": "code",
   "execution_count": 4,
   "metadata": {},
   "outputs": [],
   "source": [
    "class Route:\n",
    "    def __init__(self, path=None):\n",
    "        if path is not None:\n",
    "            self.path = path #numpy int array of shape (CITIES_COUNT,2)\n",
    "        else:\n",
    "            p = CITIES.copy()\n",
    "            np.random.shuffle(p)\n",
    "            self.path = p \n",
    "        self.f = self.fitness() #float scalar \n",
    "        \n",
    "    def fitness(self):\n",
    "        shifted = np.append(self.path[1:], self.path[:1], axis=0)\n",
    "        squared_comp = np.square((np.subtract(self.path,shifted)))\n",
    "        out = np.sum(np.sqrt(np.sum(squared_comp,axis=1)))\n",
    "        return out\n",
    "            \n",
    "    def __str__(self):\n",
    "        return f\"Route: {self.path}; Fitness: {self.f:.5f}\"\n",
    "    \n",
    "    def __repr__(self):\n",
    "        return f\"Route at {hex(id(self))}\"  #; Fitness: {self.f:.5f}\"  "
   ]
  },
  {
   "cell_type": "markdown",
   "metadata": {},
   "source": [
    "## Parent Selection"
   ]
  },
  {
   "cell_type": "code",
   "execution_count": 5,
   "metadata": {},
   "outputs": [],
   "source": [
    "def random_selection(population):\n",
    "    mating_pool = []\n",
    "    for i in range(2*OFFSPRING_SIZE):\n",
    "        mating_pool.append(random.choice(population))\n",
    "    return mating_pool"
   ]
  },
  {
   "cell_type": "markdown",
   "metadata": {},
   "source": [
    "## Crossovers"
   ]
  },
  {
   "cell_type": "code",
   "execution_count": 6,
   "metadata": {},
   "outputs": [],
   "source": [
    "#Begin with a selection from one, fill in missing\n",
    "def crossover_old(p1, p2):\n",
    "    a,b = np.random.randint(0,CITIES_COUNT, size=(2,), dtype='int32')\n",
    "    p1_dna = np.array(p1.path[min(a,b):max(a,b)])\n",
    "    # TODO find a faster way to do this\n",
    "    missing_cities = np.array([city for city in p2.path if not any(np.equal(p1_dna, city).all(1))])\n",
    "    if missing_cities.shape == (0,):\n",
    "        return Route(np.array(p1_dna))\n",
    "    return Route(np.append(p1_dna, missing_cities, axis=0))\n",
    "\n",
    "#Take a selection from one and fill in before and after\n",
    "def crossover_ordinary(p1, p2):\n",
    "    a,b = np.random.randint(0,CITIES_COUNT, size=(2,), dtype='int32')\n",
    "    start = min(a,b)\n",
    "    stop = max(a,b)\n",
    "    if stop - start == CITIES_COUNT-1:\n",
    "        return p1\n",
    "    p1_dna = np.array(p1.path[start:stop])\n",
    "    missing_cities = np.array([city for city in p2.path if not any(np.equal(p1_dna, city).all(1))])\n",
    "    t = np.append(missing_cities[:start], p1_dna, axis=0)\n",
    "    return Route(np.append(t, missing_cities[start:], axis=0))"
   ]
  },
  {
   "cell_type": "markdown",
   "metadata": {},
   "source": [
    "## Mutations"
   ]
  },
  {
   "cell_type": "code",
   "execution_count": 7,
   "metadata": {},
   "outputs": [],
   "source": [
    "def no_mutation(r):\n",
    "    return r\n",
    "\n",
    "def swap_mutate(r):\n",
    "    dna = r.path\n",
    "    a,b = np.random.randint(0,len(r.path), size=(2,), dtype='int32')\n",
    "    t = dna[a].copy()\n",
    "    dna[a] =  dna[b]\n",
    "    dna[b] = t\n",
    "    return Route(dna)\n",
    "\n",
    "\n",
    "def flip_mutation(r):\n",
    "    #pick two random points and flip the subarray bounded by those\n",
    "    #Example: If the sequence is [A,B,C,D,E,F] and B and E are selected,\n",
    "    #the new sequence is [A,E,D,C,B,F]  \n",
    "    dna = r.path\n",
    "    i,j = np.random.randint(0,CITIES_COUNT, size=(2,), dtype='int32')\n",
    "    start = min(i,j)\n",
    "    stop = max(i,j)\n",
    "    out = np.append(dna[:start], dna[start:stop][::-1], axis=0)\n",
    "    out = np.append(out, dna[stop:], axis=0)\n",
    "    return Route(out)"
   ]
  },
  {
   "cell_type": "markdown",
   "metadata": {},
   "source": [
    "## Survival Method - must sort"
   ]
  },
  {
   "cell_type": "code",
   "execution_count": 8,
   "metadata": {},
   "outputs": [],
   "source": [
    "def kill_weakest(population, children):\n",
    "    return sorted(population+children, key=lambda x:x.f)[:POPULATION_SIZE]\n",
    "\n",
    "def k_elitism(population, children):\n",
    "    #return population[:ELITISM] + sorted(children, key=lambda x: x.f)[:POPULATION_SIZE-ELITISM]\n",
    "    return sorted(population[:ELITISM] + children, key=lambda x: x.f)[:POPULATION_SIZE]"
   ]
  }
 ],
 "metadata": {
  "kernelspec": {
   "display_name": "Python 3 (ipykernel)",
   "language": "python",
   "name": "python3"
  },
  "language_info": {
   "codemirror_mode": {
    "name": "ipython",
    "version": 3
   },
   "file_extension": ".py",
   "mimetype": "text/x-python",
   "name": "python",
   "nbconvert_exporter": "python",
   "pygments_lexer": "ipython3",
   "version": "3.9.6"
  }
 },
 "nbformat": 4,
 "nbformat_minor": 4
}
