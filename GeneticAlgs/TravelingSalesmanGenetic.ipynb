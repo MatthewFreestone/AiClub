{
 "cells": [
  {
   "cell_type": "code",
   "execution_count": 208,
   "metadata": {},
   "outputs": [],
   "source": [
    "import tensorflow as tf\n",
    "import numpy as np\n",
    "from math import sqrt\n",
    "import random\n",
    "import matplotlib.pyplot as plt"
   ]
  },
  {
   "cell_type": "code",
   "execution_count": 294,
   "metadata": {},
   "outputs": [
    {
     "name": "stdout",
     "output_type": "stream",
     "text": [
      "[(2, -8), (1, 0), (-10, 6), (5, 3), (-6, -3), (-8, 3), (2, -1), (9, -8), (-8, 7), (-4, -5), (-4, -8), (7, -9), (5, -10), (-1, 3), (3, -7), (-7, 9), (-2, 7), (2, -8), (2, 1), (-6, -5), (-7, 6), (8, 10), (3, -1), (-5, 10), (3, -10), (3, 7), (3, 6), (5, 8), (1, -8), (3, 10), (-6, 2), (9, 4), (-3, 4), (-9, 4), (-10, -3), (-3, 4), (0, -10), (10, -5), (-8, 10), (4, -9)]\n"
     ]
    }
   ],
   "source": [
    "CITIES_COUNT = 40\n",
    "POPULATION_SIZE = 1000\n",
    "GENERATIONS = 5000\n",
    "MUTATION_CHANCE = 0.2\n",
    "REPORT_EVERY_GEN = 150\n",
    "\n",
    "CITIES = [(random.randint(-10,10), random.randint(-10,10)) for i in range(CITIES_COUNT)]\n",
    "print(CITIES)"
   ]
  },
  {
   "cell_type": "code",
   "execution_count": 295,
   "metadata": {},
   "outputs": [
    {
     "name": "stdout",
     "output_type": "stream",
     "text": [
      "Generation 0: 343.05895\n",
      "Generation 150: 136.94785\n",
      "Generation 300: 117.48103\n",
      "Generation 450: 110.03162\n",
      "Generation 600: 110.03162\n",
      "Generation 750: 110.03162\n",
      "Generation 900: 110.03162\n",
      "Generation 1050: 110.03162\n",
      "Generation 1200: 110.03162\n",
      "Generation 1350: 110.03162\n",
      "Generation 1500: 110.03162\n",
      "Generation 1650: 110.03162\n",
      "Generation 1800: 110.03162\n",
      "Generation 1950: 110.03162\n",
      "Generation 2100: 110.03162\n",
      "Generation 2250: 110.03162\n",
      "Generation 2400: 110.03162\n",
      "Generation 2550: 110.03162\n",
      "Generation 2700: 110.03162\n",
      "Generation 2850: 110.03162\n",
      "Generation 3000: 110.03162\n",
      "Generation 3150: 110.03162\n",
      "Generation 3300: 110.03162\n",
      "Generation 3450: 110.03162\n",
      "Generation 3600: 110.03162\n",
      "Generation 3750: 110.03162\n",
      "Generation 3900: 110.03162\n",
      "Generation 4050: 110.03162\n",
      "Generation 4200: 110.03162\n",
      "Generation 4350: 110.03162\n",
      "Generation 4500: 110.03162\n",
      "Generation 4650: 110.03162\n",
      "Generation 4800: 110.03162\n",
      "Generation 4950: 110.03162\n"
     ]
    }
   ],
   "source": [
    "paths = [random.sample(CITIES, k=len(CITIES)) for i in range(POPULATION_SIZE)]\n",
    "routes = [Route(i) for i in paths]\n",
    "\n",
    "for generation in range(GENERATIONS):\n",
    "    routes.sort(key=lambda x: x.f)\n",
    "    for i in range(0, len(routes)-2, 2):\n",
    "        #print(f\"Crossing {routes[i]} and {routes[i+1]}\")\n",
    "        r = Route.crossover(routes[i], routes[i+1])\n",
    "        r.mutate()\n",
    "        routes.append(r)\n",
    "\n",
    "    routes.sort(key=lambda x: x.f)\n",
    "    routes = routes[:POPULATION_SIZE]\n",
    "    if(generation % REPORT_EVERY_GEN == 0):\n",
    "        print(f\"Generation {generation}: {routes[0].f:.5f}\")\n",
    "best_answer = routes[0]\n",
    "best_answer.path.append(best_answer.path[0])"
   ]
  },
  {
   "cell_type": "code",
   "execution_count": 297,
   "metadata": {},
   "outputs": [
    {
     "data": {
      "image/png": "[encoded data removed]",
      "text/plain": [
       "<Figure size 720x360 with 2 Axes>"
      ]
     },
     "metadata": {
      "needs_background": "light"
     },
     "output_type": "display_data"
    }
   ],
   "source": [
    "#print(routes[0])\n",
    "#print(CITIES)\n",
    "fig, [ax1,ax2] = plt.subplots(1,2, figsize=(10,5))\n",
    "c = np.array(CITIES)\n",
    "s = np.array(best_answer.path)\n",
    "ax1.plot(c[:, 0], c[:, 1], marker='o', linewidth=0, color='red')\n",
    "ax1.set(title='Initial Dataset')\n",
    "ax1.set_xlim([-10, 10])\n",
    "ax1.set_ylim([-10, 10])\n",
    "\n",
    "ax2.plot(s[:, 0], s[:, 1], marker='o', color='b', mfc='r',mec='r')\n",
    "ax2.set(title=f'Final Answer, {best_answer.f:.4f}')\n",
    "ax2.set_xlim([-10, 10])\n",
    "ax2.set_ylim([-10, 10])\n",
    "\n",
    "fig.tight_layout()\n",
    "plt.show()"
   ]
  },
  {
   "cell_type": "code",
   "execution_count": 245,
   "metadata": {},
   "outputs": [],
   "source": [
    "class Route:\n",
    "    def __init__(self, path):\n",
    "        self.path = path\n",
    "        self.f = self.fitness()\n",
    "        \n",
    "    def fitness(self):\n",
    "        d = 0\n",
    "        for i in range(len(self.path)-1):\n",
    "            d += Route.distance(self.path[i], self.path[i+1])\n",
    "        d += Route.distance(self.path[-1], self.path[0])\n",
    "        return d\n",
    "            \n",
    "    def __str__(self):\n",
    "        return f\"Route: {self.path}; Fitness: {self.f:.5f}\"\n",
    "    \n",
    "    def __repr__(self):\n",
    "        return f\"Route at {hex(id(self))}; Fitness: {self.f:.5f}\"\n",
    "    \n",
    "    @staticmethod \n",
    "    def distance(p1,p2):\n",
    "        return sqrt((p1[0]-p2[0])**2 + (p1[1] - p2[1])**2)\n",
    "    \n",
    "    # Shamelessly stolen from last year\n",
    "    @staticmethod \n",
    "    def crossover(p1, p2):\n",
    "      a, b = random.randrange(len(CITIES)), random.randrange(len(CITIES))\n",
    "      p1_dna = p1.path[min(a,b):max(a,b)]\n",
    "      return Route(p1_dna + [city for city in p2.path if city not in p1_dna])\n",
    "\n",
    "    def mutate(self):\n",
    "        if random.random() < MUTATION_CHANCE:\n",
    "            a, b = random.randint(0, len(r.path)-1), random.randint(0, len(r.path)-1)\n",
    "            t = r.path[a]\n",
    "            r.path[a] = r.path[b]\n",
    "            r.path[b] = t\n",
    "            r.f = r.fitness()\n",
    "            "
   ]
  }
 ],
 "metadata": {
  "kernelspec": {
   "display_name": "Python 3",
   "language": "python",
   "name": "python3"
  },
  "language_info": {
   "codemirror_mode": {
    "name": "ipython",
    "version": 3
   },
   "file_extension": ".py",
   "mimetype": "text/x-python",
   "name": "python",
   "nbconvert_exporter": "python",
   "pygments_lexer": "ipython3",
   "version": "3.8.5"
  }
 },
 "nbformat": 4,
 "nbformat_minor": 4
}
