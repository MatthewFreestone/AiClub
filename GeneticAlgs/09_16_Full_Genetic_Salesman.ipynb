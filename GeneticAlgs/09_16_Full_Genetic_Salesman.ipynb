{
 "cells": [
  {
   "cell_type": "code",
   "execution_count": 1,
   "metadata": {
    "id": "KY-KMowx3wa3"
   },
   "outputs": [],
   "source": [
    "from math import sqrt\n",
    "import random\n",
    "\n",
    "START_CITY = (1, 39)\n",
    "OTHER_CITIES = [(75, 55), (2, 8), (45, 26), (46, 10), (49, 90), (70, 65), (1, 2), (71, 81), (36, 63), (62, 70), (97, 2), (4, 4), (89, 37), (66, 12), (69, 84), (81, 35), (42, 33), (14, 78), (24, 82), (97, 21), (26, 79), (38, 71), (75, 34), (86, 1), (79, 76), (24, 48), (34, 83), (2, 43), (77, 28), (36, 9), (32, 61), (57, 81), (59, 25), (19, 20), (16, 78), (30, 88), (15, 52), (42, 85), (95, 70)]\n",
    "\n",
    "def dist(a, b):\n",
    "    return sqrt((a[0] - b[0])**2 + (a[1] - b[1])**2)\n",
    "\n",
    "class Route:\n",
    "    def get_cost(self):\n",
    "        total = 0\n",
    "        for i in range(38):\n",
    "            total += dist(self.cities[i], self.cities[i+1])\n",
    "        total += dist(START_CITY, self.cities[0])\n",
    "        total += dist(START_CITY, self.cities[-1])\n",
    "        return total\n",
    "\n",
    "    def __init__(self, route):\n",
    "        assert len(route) == 39 #this checks if the route has exactly 39 cities.  If not, an exception is thrown\n",
    "        assert all([city in route for city in OTHER_CITIES])    #this makes sure each city in OTHER_CITIES is in the route\n",
    "        #together, the two above lines make sure the route is an ordering of the OTHER_CITIES\n",
    "        self.cities = route\n",
    "        self.fitness = -1 * self.get_cost()\n",
    "    \n",
    "    def __repr__(self):\n",
    "        return f'Route({self.cities})'\n",
    "    \n",
    "    @staticmethod\n",
    "    def random():\n",
    "        cities = OTHER_CITIES[:]\n",
    "        random.shuffle(cities)\n",
    "        return Route(cities)"
   ]
  },
  {
   "cell_type": "markdown",
   "metadata": {
    "id": "ahGvn3mw4JAE"
   },
   "source": [
    "PARENT SELECTION METHODS:\n",
    "\n",
    "Input: the population to be selected from, as a list in no particular order\n",
    "\n",
    "Output: a list of size 2*OFFSPRING_SIZE, representing the selected parents\n",
    "\n",
    "Constraints: the order of population can be changed, but the list should not be modified"
   ]
  },
  {
   "cell_type": "code",
   "execution_count": 2,
   "metadata": {
    "id": "ZXIScRDA4LS4"
   },
   "outputs": [],
   "source": [
    "def random_selection(population):\n",
    "    mating_pool = []\n",
    "    for i in range(2*OFFSPRING_SIZE):\n",
    "        mating_pool.append(random.choice(population))\n",
    "    return mating_pool\n",
    "\n",
    "#this requires SELECTION_K to be specified\n",
    "def selection_k_tournament(population):\n",
    "    mating_pool = []\n",
    "    for i in range(2*OFFSPRING_SIZE):\n",
    "        entrants = random.sample(population, k=SELECTION_K)    #pick k random people from the population to go into a tournament\n",
    "        winner = max(entrants, key=lambda x:x.fitness)  #find the entrant with the highest fitness\n",
    "        mating_pool.append(winner)  #put the winner in the mating pool\n",
    "    return mating_pool"
   ]
  },
  {
   "cell_type": "markdown",
   "metadata": {
    "id": "ZRXAyIAU8GSp"
   },
   "source": [
    "CROSSOVER METHODS:\n",
    "\n",
    "Input: the dna of two parents (each is a list of cities)\n",
    "\n",
    "Output: a new list of cities, representing the child's dna\n",
    "\n",
    "Constraints: the dna of the parents should not be modified"
   ]
  },
  {
   "cell_type": "code",
   "execution_count": 3,
   "metadata": {
    "id": "e5HUbeyq9zVi"
   },
   "outputs": [],
   "source": [
    "def copy_first_n(dna1, dna2):\n",
    "    child = dna1[:random.randint(1, 38)]\n",
    "    for city in dna2:\n",
    "        if city not in child:\n",
    "            child.append(city)\n",
    "    return child\n",
    "\n",
    "#this one's complicated: https://www.rubicite.com/Tutorials/GeneticAlgorithms/CrossoverOperators/CycleCrossoverOperator.aspx\n",
    "def cycle_crossover(dna1, dna2):\n",
    "    cycle_num = [0 for i in range(len(dna1))]\n",
    "    cycle = 1   #which cycle we're on\n",
    "    while(not all(cycle_num)): #0 is \"falsy\" in python, so this checks if any of the cycle_nums are still 0\n",
    "        index = cycle_num.index(0)\n",
    "        starting_value = dna1[index]\n",
    "        cur_value = dna2[index]\n",
    "        cycle_num[index] = cycle    #mark point as belonging to this cycle\n",
    "        while cur_value != starting_value:\n",
    "            index = dna1.index(cur_value)\n",
    "            cur_value = dna2[index]\n",
    "            cycle_num[index] = cycle\n",
    "        cycle += 1\n",
    "    return [dna1[i] if cycle_num[i]%2 else dna2[i] for i in range(len(dna1))]"
   ]
  },
  {
   "cell_type": "markdown",
   "metadata": {
    "id": "eU6SkPOJQ7kE"
   },
   "source": [
    "MUTATION METHODS:\n",
    "\n",
    "Input: A list of cities, representing DNA to mutate\n",
    "\n",
    "Output: A list of cities, representing the mutated DNA\n",
    "\n",
    "Constraints: None.  The input list may be changed, as it is discarded after calling."
   ]
  },
  {
   "cell_type": "code",
   "execution_count": 4,
   "metadata": {
    "id": "97OhqOfBRVEl"
   },
   "outputs": [],
   "source": [
    "def no_mutation(dna):\n",
    "    return dna\n",
    "\n",
    "def swap_mutation(dna):\n",
    "    i = random.randrange(len(dna))\n",
    "    j = random.randrange(len(dna))\n",
    "    dna[i], dna[j] = dna[j], dna[i]\n",
    "    return dna\n",
    "\n",
    "def flip_mutation(dna):\n",
    "    #pick two random points and flip the subarray bounded by those\n",
    "    #Example: If the sequence is [A,B,C,D,E,F] and B and E are selected,\n",
    "    #the new sequence is [A,E,D,C,B,F]\n",
    "    i = random.randrange(len(dna))\n",
    "    j = random.randrange(len(dna))\n",
    "    start = min(i,j)\n",
    "    stop = max(i,j)\n",
    "    return dna[:start] + dna[start:stop][::-1] + dna[stop:]\n",
    "\n",
    "def insert_mutation(dna):\n",
    "    #pick two random points and insert the city at one point into the other, shifting all other cities to make room\n",
    "    #Example: If the sequence is [A,B,C,D,E,F] and we chose to insert E at B,\n",
    "    #the new sequence is [A,E,B,C,D,F]\n",
    "    city = dna.pop(random.randrange(len(dna)))\n",
    "    dna.insert(random.randrange(len(dna)), city)\n",
    "    return dna"
   ]
  },
  {
   "cell_type": "markdown",
   "metadata": {
    "id": "uu_dE02Iltv-"
   },
   "source": [
    "SURVIVAL METHODS:\n",
    "\n",
    "Input: The parents and children to chose from, each as a list in no particular order\n",
    "\n",
    "Output: A list of size POPULATION_SIZE representing the organisms that survive\n",
    "\n",
    "Constraints: The output should have unique elements; a parent/child should not survive multiple times.  The parent and children lists can be modified however you want."
   ]
  },
  {
   "cell_type": "code",
   "execution_count": 5,
   "metadata": {
    "id": "junl89_mqj9A"
   },
   "outputs": [],
   "source": [
    "def truncation(population, children):\n",
    "    return sorted(population+children, key=lambda x:x.fitness, reverse=True)[:POPULATION_SIZE]\n",
    "\n",
    "#keep the k most fit parents, and then however many children we need to fill out the population\n",
    "#requires SURVIVAL_K to be specified.  SURVIVAL_K + OFFSPRING_SIZE must be greater than or equal to POPULATION_SIZE\n",
    "def k_elitism(population, children):\n",
    "    if len(children)+SURVIVAL_K < POPULATION_SIZE:\n",
    "        raise ValueError(\"If using k-elitism, SURVIVAL_K plus OFFSPRING_SIZE must be at least POPULATION_SIZE\")\n",
    "    population.sort(key=lambda x:x.fitness, reverse=True)\n",
    "    children.sort(key=lambda x:x.fitness, reverse=True)\n",
    "    return population[:SURVIVAL_K] + children[:POPULATION_SIZE - SURVIVAL_K]\n",
    "\n",
    "def k_tournament_survival(population, children):\n",
    "    pool = population + children\n",
    "    survivors = []\n",
    "    for i in range(POPULATION_SIZE):\n",
    "        entrants = random.sample(pool, k=SURVIVAL_K)    #pick k random people from the population to go into a tournament\n",
    "        winner = max(entrants, key=lambda x:x.fitness)  #find the entrant with the highest fitness\n",
    "        survivors.append(winner)\n",
    "        pool.remove(winner)\n",
    "    return survivors"
   ]
  },
  {
   "cell_type": "code",
   "execution_count": 23,
   "metadata": {
    "id": "09G_TM-osDvo"
   },
   "outputs": [],
   "source": [
    "POPULATION_SIZE = 100\n",
    "OFFSPRING_SIZE = 150\n",
    "MUTATION_RATE = 0.25\n",
    "GENERATIONS = 3000\n",
    "\n",
    "SELECTION_K = 4 #only used if using tournament parent selection\n",
    "SURVIVAL_K  = 4 #only used if using elitist or tournament survival\n",
    "\n",
    "selection_method = selection_k_tournament\n",
    "crossover_method = cycle_crossover\n",
    "mutation_method  = swap_mutation\n",
    "survival_method  = k_elitism"
   ]
  },
  {
   "cell_type": "code",
   "execution_count": 24,
   "metadata": {
    "colab": {
     "base_uri": "https://localhost:8080/"
    },
    "id": "vGKxIF0SsU2N",
    "outputId": "e08c6b42-fd7d-4bb2-ac17-5398c141e0bb"
   },
   "outputs": [
    {
     "name": "stdout",
     "output_type": "stream",
     "text": [
      "10% done.  Best fitness: -773.8710545118844\n",
      "20% done.  Best fitness: -773.8710545118844\n",
      "30% done.  Best fitness: -773.8710545118844\n",
      "40% done.  Best fitness: -773.8710545118844\n",
      "50% done.  Best fitness: -773.8710545118844\n",
      "60% done.  Best fitness: -773.8710545118844\n",
      "70% done.  Best fitness: -773.8710545118844\n",
      "80% done.  Best fitness: -773.8710545118844\n",
      "90% done.  Best fitness: -773.8710545118844\n",
      "Best fitness: -773.8710545118844\n",
      "Route([(14, 78), (16, 78), (26, 79), (24, 82), (30, 88), (34, 83), (59, 25), (66, 12), (86, 1), (97, 2), (97, 21), (89, 37), (95, 70), (75, 55), (81, 35), (77, 28), (75, 34), (36, 63), (32, 61), (2, 8), (1, 2), (4, 4), (19, 20), (69, 84), (71, 81), (79, 76), (70, 65), (62, 70), (57, 81), (49, 90), (42, 85), (38, 71), (36, 9), (46, 10), (45, 26), (42, 33), (24, 48), (15, 52), (2, 43)])\n"
     ]
    }
   ],
   "source": [
    "random.seed()\n",
    "\n",
    "population = [Route.random() for i in range(POPULATION_SIZE)]\n",
    "best = max(population, key=lambda x:x.fitness)\n",
    "\n",
    "for gen in range(GENERATIONS):\n",
    "    #pick parents and crossover\n",
    "    parents = selection_method(population)\n",
    "    assert len(parents) == 2*OFFSPRING_SIZE\n",
    "    child_dna = [crossover_method(parents[i].cities, parents[i+1].cities) for i in range(0,len(parents),2)]\n",
    "    #turn dna into children\n",
    "    children = []\n",
    "    for i in range(len(child_dna)):\n",
    "        if random.random() < MUTATION_RATE:\n",
    "            new_dna = mutation_method(child_dna[i])\n",
    "            children.append(Route(new_dna))\n",
    "        else:\n",
    "            children.append(Route(child_dna[i]))\n",
    "    #choose the survivors:\n",
    "    population = survival_method(parents, children)\n",
    "    assert len(population) == POPULATION_SIZE\n",
    "    best = max(population+[best], key=lambda x:x.fitness)\n",
    "    #print progress\n",
    "    if gen>0 and 10*gen % GENERATIONS == 0:\n",
    "        print(f\"{100*gen // GENERATIONS}% done.  Best fitness: {best.fitness}\")\n",
    "\n",
    "print(f\"Best fitness: {best.fitness}\")\n",
    "print(best)"
   ]
  },
  {
   "cell_type": "code",
   "execution_count": 25,
   "metadata": {
    "scrolled": true
   },
   "outputs": [
    {
     "data": {
      "image/png": "[encoded data removed]",
      "text/plain": [
       "<Figure size 720x360 with 2 Axes>"
      ]
     },
     "metadata": {
      "needs_background": "light"
     },
     "output_type": "display_data"
    }
   ],
   "source": [
    "import matplotlib.pyplot as plt\n",
    "import numpy as np\n",
    "\n",
    "fig, [ax1,ax2] = plt.subplots(1,2, figsize=(10,5))\n",
    "c = np.array(OTHER_CITIES)\n",
    "s = np.array(best.cities)\n",
    "ax1.plot(c[:, 0], c[:, 1], marker='o', linewidth=0, color='red')\n",
    "ax1.plot(START_CITY[0], START_CITY[1], marker='.', mew=3, ms=10, linewidth=0, color='green')\n",
    "ax1.set(title=f'Initial Dataset, {len(OTHER_CITIES) + 1} points')\n",
    "\n",
    "ax2.plot(s[:, 0], s[:, 1], marker='o', color='b', mfc='r',mec='r')\n",
    "ax2.plot(START_CITY[0], START_CITY[1], marker='.', mew=3, ms=10, linewidth=0, color='green')\n",
    "ax2.set(title=f'Final Answer, Length of {-1 * best.fitness:.4f}')\n",
    "\n",
    "fig.tight_layout()\n",
    "plt.show()"
   ]
  }
 ],
 "metadata": {
  "colab": {
   "name": "09/16 Full Genetic Salesman.ipynb",
   "provenance": []
  },
  "kernelspec": {
   "display_name": "Python 3 (ipykernel)",
   "language": "python",
   "name": "python3"
  },
  "language_info": {
   "codemirror_mode": {
    "name": "ipython",
    "version": 3
   },
   "file_extension": ".py",
   "mimetype": "text/x-python",
   "name": "python",
   "nbconvert_exporter": "python",
   "pygments_lexer": "ipython3",
   "version": "3.9.6"
  }
 },
 "nbformat": 4,
 "nbformat_minor": 1
}
