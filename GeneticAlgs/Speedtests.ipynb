{
 "cells": [
  {
   "cell_type": "code",
   "execution_count": 1,
   "metadata": {},
   "outputs": [],
   "source": [
    "import tensorflow as tf\n",
    "import numpy as np\n",
    "import time, sys, math"
   ]
  },
  {
   "cell_type": "markdown",
   "metadata": {},
   "source": [
    "## Definitions"
   ]
  },
  {
   "cell_type": "code",
   "execution_count": 2,
   "metadata": {},
   "outputs": [],
   "source": [
    "def distance(p1,p2):\n",
    "        return math.sqrt((p1[0]-p2[0])**2 + (p1[1] - p2[1])**2)"
   ]
  },
  {
   "cell_type": "code",
   "execution_count": 3,
   "metadata": {},
   "outputs": [
    {
     "name": "stdout",
     "output_type": "stream",
     "text": [
      "<class 'tensorflow.python.framework.ops.EagerTensor'>\n",
      "tf.Tensor(\n",
      "[[0 1]\n",
      " [2 3]\n",
      " [4 5]\n",
      " [6 7]\n",
      " [8 9]], shape=(5, 2), dtype=int32)\n"
     ]
    }
   ],
   "source": [
    "a = np.arange(10).reshape(5,2)\n",
    "a = tf.constant(a)\n",
    "print(type(a))\n",
    "print(a)"
   ]
  },
  {
   "cell_type": "code",
   "execution_count": 4,
   "metadata": {},
   "outputs": [
    {
     "name": "stdout",
     "output_type": "stream",
     "text": [
      "tf.Tensor(\n",
      "[[2 3]\n",
      " [4 5]\n",
      " [6 7]\n",
      " [8 9]\n",
      " [0 1]], shape=(5, 2), dtype=int32)\n"
     ]
    }
   ],
   "source": [
    "b = tf.concat([a[1:],a[:1]], 0)\n",
    "print(b)"
   ]
  },
  {
   "cell_type": "code",
   "execution_count": 12,
   "metadata": {},
   "outputs": [],
   "source": [
    "def s(l):\n",
    "    a = BASE.tolist()\n",
    "    out = 0\n",
    "    for i in range(len(a)-1):\n",
    "        out += distance(a[i], a[i+1])\n",
    "    out += distance(a[-1], a[0])\n",
    "    return out\n",
    "\n",
    "def n(l):\n",
    "    a = BASE.copy()\n",
    "    b = np.append(BASE[1:], BASE[:1], axis=0)\n",
    "    c = np.square((np.subtract(a,b)))\n",
    "    d = np.sqrt(np.sum(c,axis=1))\n",
    "    return np.sum(d)\n",
    "\n",
    "def t(l):\n",
    "    with tf.device(\"GPU:0\"):\n",
    "        a = tf.constant(BASE, dtype='float64')\n",
    "        b = tf.concat([a[1:],a[:1]], 0)\n",
    "        c = tf.square((tf.subtract(a,b)))\n",
    "        d = tf.sqrt(tf.math.reduce_sum(c,axis=1))\n",
    "        return tf.math.reduce_sum(d).numpy()"
   ]
  },
  {
   "cell_type": "markdown",
   "metadata": {},
   "source": [
    "## Timing"
   ]
  },
  {
   "cell_type": "code",
   "execution_count": 13,
   "metadata": {},
   "outputs": [
    {
     "name": "stdout",
     "output_type": "stream",
     "text": [
      "0.0 C-python\n",
      "3.3058154582977295 Numpy\n",
      "0.5141160488128662 Tensorflow GPU\n"
     ]
    }
   ],
   "source": [
    "LENGTH = 100000000\n",
    "BASE = np.random.rand(LENGTH, 2)\n",
    "\n",
    "start = time.time()\n",
    "# o1 = s(LENGTH)\n",
    "end = time.time()\n",
    "print(f'{end-start} C-python')\n",
    "\n",
    "start = time.time()\n",
    "o2 = n(LENGTH)\n",
    "end = time.time()\n",
    "print(f'{end-start} Numpy')\n",
    "\n",
    "start = time.time()\n",
    "o3 = t(LENGTH)\n",
    "end = time.time()\n",
    "print(f'{end-start} Tensorflow GPU')"
   ]
  },
  {
   "cell_type": "code",
   "execution_count": 14,
   "metadata": {},
   "outputs": [
    {
     "name": "stdout",
     "output_type": "stream",
     "text": [
      "5214615.266049451\n",
      "52143418.49989446\n",
      "52143418.49989469\n"
     ]
    }
   ],
   "source": [
    "print(o1)\n",
    "print(o2)\n",
    "print(o3)"
   ]
  },
  {
   "cell_type": "code",
   "execution_count": 15,
   "metadata": {
    "scrolled": true
   },
   "outputs": [
    {
     "name": "stdout",
     "output_type": "stream",
     "text": [
      "24\n",
      "32\n",
      "32\n"
     ]
    }
   ],
   "source": [
    "print(sys.getsizeof(o1))\n",
    "print(sys.getsizeof(o2))\n",
    "print(sys.getsizeof(o3))"
   ]
  }
 ],
 "metadata": {
  "kernelspec": {
   "display_name": "Python 3 (ipykernel)",
   "language": "python",
   "name": "python3"
  },
  "language_info": {
   "codemirror_mode": {
    "name": "ipython",
    "version": 3
   },
   "file_extension": ".py",
   "mimetype": "text/x-python",
   "name": "python",
   "nbconvert_exporter": "python",
   "pygments_lexer": "ipython3",
   "version": "3.9.6"
  }
 },
 "nbformat": 4,
 "nbformat_minor": 4
}
