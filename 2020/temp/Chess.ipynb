{
 "cells": [
  {
   "cell_type": "code",
   "execution_count": 25,
   "metadata": {},
   "outputs": [],
   "source": [
    "start_b = \"k b n r p p p p - - - - - - - - - - - - - - - - P P P P K B N R\""
   ]
  },
  {
   "cell_type": "code",
   "execution_count": 57,
   "metadata": {},
   "outputs": [
    {
     "ename": "IndentationError",
     "evalue": "expected an indented block (<ipython-input-57-f10fe3d64dfe>, line 9)",
     "output_type": "error",
     "traceback": [
      "\u001b[1;36m  File \u001b[1;32m\"<ipython-input-57-f10fe3d64dfe>\"\u001b[1;36m, line \u001b[1;32m9\u001b[0m\n\u001b[1;33m    def getValidMoves(self, start):\u001b[0m\n\u001b[1;37m    ^\u001b[0m\n\u001b[1;31mIndentationError\u001b[0m\u001b[1;31m:\u001b[0m expected an indented block\n"
     ]
    }
   ],
   "source": [
    "class Board:\n",
    "    def __init__(self,  strIn):\n",
    "        self.board = [c if c != '-' else None for c in strIn.split()]\n",
    "        self.moves = []\n",
    "        \n",
    "    def isValidMove(self, fr, to):\n",
    "        cur = self.board[fr]\n",
    "        if (cur == 'k'):\n",
    "            #TODO check for move into check \n",
    "            \n",
    "    def getValidMoves(self, start):\n",
    "        cur = self.board[start]\n",
    "        \n",
    "        if (cur == 'k' or cur =='K'):\n",
    "            sx,sy = fromRM(start)\n",
    "            around = [(-1,-1), (-1,0), (-1,1), (0,-1), (0,1), (1, -1), (1,0), (1,1)]\n",
    "            for dx, dy in around:\n",
    "                x = sx + dx\n",
    "                y = sy + dy\n",
    "                if isValid(x,y):\n",
    "                    other = self.board[toRM(x,y)]\n",
    "                    if (other == None or curr.islower() == other.islower()):\n",
    "                        self.moves.append(cur, start, toRM(x,y))\n",
    "        elif (cur == 'n' or cur == 'N'):\n",
    "            sx,sy = fromRM(start)\n",
    "            around = [(-1,2),(-2, 1), (-2,-1), (-1,-2), (1, 2), (2, 1), (2, -1), (1, -2)]\n",
    "            for dx, dy in around:\n",
    "                x = sx + dx\n",
    "                y = sy + dy\n",
    "                if isValid(x,y):\n",
    "                    other = self.board[toRM(x,y)]\n",
    "                    if (other == None or curr.islower() == other.islower()):\n",
    "                        self.moves.append(cur, start, toRM(x,y))\n",
    "        elif (cur == 'p'):\n",
    "            sx,sy = fromRM(start)\n",
    "            take = [(-1,1), (1,1)] #diagonals\n",
    "            if (sy == 1):\n",
    "                around = [(0, 1), (0, 2)]\n",
    "            else:\n",
    "                around = [(0,1)]\n",
    "            for dx, dy in around:\n",
    "                x = sx + dx\n",
    "                y = sy + dy\n",
    "                if isValid(x,y):\n",
    "                    other = self.board[toRM(x,y)]\n",
    "                    if (other == None):\n",
    "                        self.moves.append(cur, start, toRM(x,y))\n",
    "            for dx, dy in take:\n",
    "                x = sx + dx\n",
    "                y = sy + dy\n",
    "                if isValid(x,y):\n",
    "                    other = self.board[toRM(x,y)]\n",
    "                    if (other.isupper()): \n",
    "                        self.moves.append(cur, start, toRM(x,y))\n",
    "        elif (cur == 'P'):\n",
    "            sx,sy = fromRM(start)\n",
    "            take = [(-1,-1), (1,-1)] #diagonals\n",
    "            if (sy == 6):\n",
    "                around = [(0, -1), (0, -2)]\n",
    "            else:\n",
    "                around = [(0,-1)]\n",
    "            for dx, dy in around:\n",
    "                x = sx + dx\n",
    "                y = sy + dy\n",
    "                if isValid(x,y):\n",
    "                    other = self.board[toRM(x,y)]\n",
    "                    if (other == None):\n",
    "                        self.moves.append(cur, start, toRM(x,y))\n",
    "            for dx, dy in take:\n",
    "                x = sx + dx\n",
    "                y = sy + dy\n",
    "                if isValid(x,y):\n",
    "                    other = self.board[toRM(x,y)]\n",
    "                    if (other.isupper()):\n",
    "                        self.moves.append(cur, start, toRM(x,y))\n",
    "        elif (cur == \"b\" or cur == \"B\"):\n",
    "            sx,sy = fromRM(start)\n",
    "            \n",
    "            \n",
    "    def move(self, fr, to):\n",
    "        self.board[to] = self.board[fr]\n",
    "        self.board[fr] = None\n",
    "        \n",
    "    def __str__(self):\n",
    "        out = \"\"\n",
    "        for i, e in enumerate(self.board):\n",
    "            out += e if e else \"-\" \n",
    "            if (i+1) % 4 == 0:\n",
    "                out+='\\n'\n",
    "        return out \n",
    "\n",
    "    def __repr__(self):\n",
    "        return \"Board: \\n\\n\"+self.__str__()\n",
    "    \n",
    "    def isValid(x,y):\n",
    "        return (x > 0 and y > 0 and x < 4 and y < 8)\n",
    "    \n",
    "    def toRM(x,y):\n",
    "        return 4*y+x\n",
    "    \n",
    "    def fromRM(n): #x,y\n",
    "        return n%4, n/4"
   ]
  },
  {
   "cell_type": "code",
   "execution_count": 55,
   "metadata": {},
   "outputs": [],
   "source": [
    "b = Board(start_b)"
   ]
  },
  {
   "cell_type": "code",
   "execution_count": 56,
   "metadata": {
    "scrolled": true
   },
   "outputs": [
    {
     "data": {
      "text/plain": [
       "Board: \n",
       "\n",
       "kbnr\n",
       "p-pp\n",
       "--p-\n",
       "----\n",
       "----\n",
       "----\n",
       "PPPP\n",
       "KBNR"
      ]
     },
     "execution_count": 56,
     "metadata": {},
     "output_type": "execute_result"
    }
   ],
   "source": [
    "b.move(5,10)\n",
    "b"
   ]
  },
  {
   "cell_type": "code",
   "execution_count": null,
   "metadata": {},
   "outputs": [],
   "source": [
    "class Game:\n",
    "\tINIT_BOARD = list(\"kbnrpppp----------------PPPPKBNR\")\n",
    "\t\n",
    "\tdef __init__(self, white_conn, black_conn, board=None, whiteTurn = True):\n",
    "\t\tif board == None:\n",
    "\t\t\tself.board = Game.INIT_BOARD[:]\n",
    "\t\tself.white = white_conn\n",
    "\t\tself.black = black_conn\n",
    "\t\tself.whiteTurn = whiteTurn\n",
    "\t\n",
    "\tdef run(self):\n",
    "\t\tpass\n",
    "\t\n",
    "\tdef is_legal_move(self, start, end):\n",
    "\t\tif start == end:\n",
    "\t\t\treturn False\n",
    "\t\tif self.board[start] == \"-\":\n",
    "\t\t\treturn False\n",
    "\t\tif self.board[start] < 91 ^ self.whiteTurn:\t\t#trying to move opponent's piece\n",
    "\t\t\treturn False\n",
    "\t\tif self.board[end] > 91 ^ self.whiteTurn:\t\t#trying to take own piece\n",
    "\t\t\treturn False\n",
    "\t\t\n",
    "\t\t#Piece-specific code:\n",
    "\t\tif self.board[start] == 'p':\n",
    "            sx = start % 4\n",
    "            sy = start // 4\n",
    "            ex = end % 4\n",
    "            ey = end // 4\n",
    "            if (ey - sy) < 1: #trying to move up \n",
    "                return False\n",
    "            if sy == 1: #Pawn in original position\n",
    "                if ey - sy > 2: #moving more than two lines down\n",
    "                    return False\n",
    "            else:\n",
    "                if (ey - sy) != 1: #trying to move more than one down from non-starting position\n",
    "                    return False\n",
    "            if (ex-sx) == 0: #move striaght down\n",
    "                if self.board[end] != '-':\n",
    "                    return False\n",
    "            elif (ex-sx) == 1 or (ex-sx) == -1: #taking diagonally\n",
    "                if self.board[end] == '-':\n",
    "                    return False\n",
    "            else: #moving too far to a side (not just one diagonal)\n",
    "                return False\n",
    "            return True \n",
    "                \n",
    "\t\t\treturn True\n",
    "\t\telif self.board[start] == 'P':\n",
    "\t\t\tsx = start % 4\n",
    "            sy = start // 4\n",
    "            ex = end % 4\n",
    "            ey = end // 4\n",
    "            if (ey - sy) > -1: #trying to move down  \n",
    "                return False\n",
    "            if sy == 6: #Pawn in original position\n",
    "                if ey - sy < -2: #moving more than two lines up\n",
    "                    return False\n",
    "            else:\n",
    "                if (ey - sy) != 1: #trying to move more than one up from non-starting position\n",
    "                    return False\n",
    "            if (ex-sx) == 0: #move striaght up\n",
    "                if self.board[end] != '-':\n",
    "                    return False\n",
    "            elif (ex-sx) == 1 or (ex-sx) == -1: #taking diagonally\n",
    "                if self.board[end] == '-':\n",
    "                    return False\n",
    "            else: #moving too far to a side (not just one diagonal)\n",
    "                return False\n",
    "            return True \n",
    "\t\telif self.board[start] == 'B' or self.board[start] == 'b':\n",
    "\t\t\treturn True\n",
    "\t\telif self.board[start] == 'N' or self.board[start] == 'n':\n",
    "\t\t\treturn True\n",
    "\t\telif self.board[start] == 'R' or self.board[start] == 'r':\n",
    "\t\t\treturn True\n",
    "\t\telif self.board[start] == 'Q' or self.board[start] == 'q':\n",
    "\t\t\treturn True\n",
    "\t\telif self.board[start] == 'K' or self.board[start] == 'k':\n",
    "\t\t\treturn True\n",
    "\n",
    "\tdef make_move(self, start, end, promotion_choice):\t#actually perform the move.  Assume it is legal.  Promotion choice will be a legal piece and the right color\n",
    "\t\t#code here\n",
    "\t\twhiteTurn = not whiteTurn"
   ]
  },
  {
   "cell_type": "code",
   "execution_count": 1,
   "metadata": {},
   "outputs": [
    {
     "data": {
      "text/plain": [
       "False"
      ]
     },
     "execution_count": 1,
     "metadata": {},
     "output_type": "execute_result"
    }
   ],
   "source": [
    "a = 'a'\n",
    "a.isupper()"
   ]
  }
 ],
 "metadata": {
  "kernelspec": {
   "display_name": "Python 3",
   "language": "python",
   "name": "python3"
  },
  "language_info": {
   "codemirror_mode": {
    "name": "ipython",
    "version": 3
   },
   "file_extension": ".py",
   "mimetype": "text/x-python",
   "name": "python",
   "nbconvert_exporter": "python",
   "pygments_lexer": "ipython3",
   "version": "3.8.5"
  }
 },
 "nbformat": 4,
 "nbformat_minor": 4
}
