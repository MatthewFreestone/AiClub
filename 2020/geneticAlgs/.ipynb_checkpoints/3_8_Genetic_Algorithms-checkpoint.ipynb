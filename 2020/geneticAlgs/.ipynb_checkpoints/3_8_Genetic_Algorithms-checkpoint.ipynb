{
 "cells": [
  {
   "cell_type": "code",
   "execution_count": 1,
   "metadata": {
    "id": "uALsQ-2lSH71"
   },
   "outputs": [],
   "source": [
    "from math import sqrt\n",
    "import random\n",
    "\n",
    "#TWENTY_CITIES = [(61, 3), (72, 31), (23, 82), (81, 19), (8, 46), (86, 15), (45, 61), (80, 66), (81, 76), (69, 70), (81, 70), (71, 1), (76, 93), (17, 49), (78, 83), (85, 27), (18, 25), (94, 14), (99, 70), (77, 98)]\n",
    "#For the weeklong one, we'll use 40 cities:\n",
    "CITIES = [(43, 17), (88, 39), (45, 14), (24, 59), (63, 47), (69, 24), (15, 8), (81, 40), (85, 58), (57, 49), (13, 98), (58, 90), (59, 50), (79, 75), (78, 65), (0, 66), (14, 61), (6, 51), (30, 76), (39, 39), (50, 36), (68, 45), (82, 19), (42, 27), (41, 38), (96, 93), (33, 52), (67, 34), (12, 97), (7, 0), (81, 73), (55, 86), (17, 52), (95, 12), (25, 90), (51, 44), (90, 36), (65, 94), (62, 56), (23, 18)]\n",
    "\n",
    "def dist(a,b):\n",
    "  return sqrt((a[0]-b[0])**2 + (a[1]-b[1])**2)\n",
    "\n",
    "class Route:\n",
    "  def __init__(self, dna=None):\n",
    "    if dna==None:\n",
    "      #Random generation\n",
    "      self.path = CITIES[:]\n",
    "      random.shuffle(self.path)\n",
    "    else:\n",
    "      self.path = dna\n",
    "    self.fitness = 1/self.distance()ca\n",
    "  def distance(self):\n",
    "    d = 0\n",
    "    for i in range(len(self.path)-1):\n",
    "      d += dist(self.path[i], self.path[i+1])\n",
    "    return d + dist(self.path[-1], self.path[0])\n",
    "  def __str__(self):\n",
    "    return str(self.path)"
   ]
  },
  {
   "cell_type": "code",
   "execution_count": 3,
   "metadata": {
    "id": "hkH-68zkWiTO"
   },
   "outputs": [],
   "source": [
    "#generates a new population.  you can specify to_include, a list of routes to include in the population\n",
    "def new_pop(to_include=None):\n",
    "  if to_include==None:\n",
    "    return [Route() for i in range(POP_SIZE)]\n",
    "  return to_include + [Route() for i in range(POP_SIZE-len(to_include))]\n",
    "\n",
    "def crossover(p1, p2):\n",
    "  a, b = random.randrange(len(CITIES)), random.randrange(len(CITIES))\n",
    "  p1_dna = p1.path[min(a,b):max(a,b)]\n",
    "  return Route(p1_dna + [city for city in p2.path if city not in p1_dna])\n",
    "\n",
    "#if you want to change how the mating pool is selected, or how partners are selected, this method is where it is done:\n",
    "def breed_next_gen(sorted_pop): #sorted_pop[0] is the best (lowest distance)\n",
    "  next_gen = sorted_pop[:ELITISM]\n",
    "  mating_pool = random.choices(sorted_pop, weights=[route.fitness for route in sorted_pop], k=POP_SIZE - ELITISM)\n",
    "  for i in range(len(mating_pool)-1):\n",
    "    next_gen.append(crossover(mating_pool[i], mating_pool[i+1]))\n",
    "  next_gen.append(crossover(mating_pool[-1], mating_pool[0]))\n",
    "  return next_gen\n",
    "\n",
    "def mutate(route):\n",
    "  changed=False\n",
    "  for i in range(len(route.path)):\n",
    "    if random.random() < MUTATE_RATE:\n",
    "      swap_with = random.randrange(len(route.path))\n",
    "      route.path[i], route.path[swap_with] = route.path[swap_with], route.path[i]\n",
    "      changed=True\n",
    "  if changed:\n",
    "    route.fitness=1/route.distance()"
   ]
  },
  {
   "cell_type": "code",
   "execution_count": 4,
   "metadata": {
    "id": "yyLdFf8tbEsb"
   },
   "outputs": [],
   "source": [
    "#takes in a generation, does mating and mutation to generate the next gen.  If should_print is True, prints the best individual from the current generation\n",
    "def next_gen(cur_gen, should_print=False):\n",
    "  cur_gen.sort(key=lambda a:a.fitness, reverse=True)\n",
    "  if should_print:\n",
    "    print(\"Best Distance:\", cur_gen[0].distance())\n",
    "  next_gen = breed_next_gen(cur_gen)\n",
    "  for route in next_gen[ELITISM:]:\n",
    "    mutate(route)\n",
    "  return next_gen\n",
    "\n",
    "#runs through n generations.  starter_guys is an array of individuals to include in the first generation, as described in new_pop's comment\n",
    "def run_generations(n, should_print=False, starters=None):\n",
    "  gen = new_pop(starters)\n",
    "  for i in range(n):\n",
    "    gen = next_gen(gen, should_print)\n",
    "  gen.sort(key=lambda a:a.fitness, reverse=True)\n",
    "  if should_print:\n",
    "    print(\"Best Distance:\", gen[0].distance())\n",
    "  return gen"
   ]
  },
  {
   "cell_type": "code",
   "execution_count": 56,
   "metadata": {},
   "outputs": [],
   "source": [
    "#HYPERPARAMTERS:\n",
    "POP_SIZE = 50       #size of each generation\n",
    "ELITISM = 2         #best n will automatically be in next generation\n",
    "MUTATE_RATE = 0.05  #probability of each gene getting mutated"
   ]
  },
  {
   "cell_type": "code",
   "execution_count": 26,
   "metadata": {},
   "outputs": [],
   "source": [
    "to_add = Route([(62, 56), (57, 49), (59, 50), (51, 44), (50, 36), (24, 59), (17, 52), (14, 61), (0, 66), (6, 51), (7, 0), (15, 8), (23, 18), (45, 14), (43, 17), (42, 27), (39, 39), (41, 38), (33, 52), (13, 98), (12, 97), (25, 90), (30, 76), (55, 86), (58, 90), (65, 94), (96, 93), (81, 73), (78, 65), (85, 58), (79, 75), (68, 45), (69, 24), (82, 19), (95, 12), (67, 34), (88, 39), (90, 36), (81, 40), (63, 47)])\n",
    "starter_a.append(to_add)"
   ]
  },
  {
   "cell_type": "markdown",
   "metadata": {},
   "source": [
    "# New Lineage"
   ]
  },
  {
   "cell_type": "code",
   "execution_count": 63,
   "metadata": {
    "colab": {
     "base_uri": "https://localhost:8080/"
    },
    "id": "nUAp6HgscAr4",
    "outputId": "94d85da5-ad44-412f-dc81-1917a533052b"
   },
   "outputs": [
    {
     "name": "stdout",
     "output_type": "stream",
     "text": [
      "[(85, 58), (42, 27), (50, 36), (33, 52), (0, 66), (25, 90), (81, 40), (59, 50), (57, 49), (69, 24), (7, 0), (15, 8), (39, 39), (51, 44), (58, 90), (78, 65), (79, 75), (82, 19), (81, 73), (96, 93), (55, 86), (13, 98), (17, 52), (6, 51), (23, 18), (45, 14), (68, 45), (88, 39), (95, 12), (63, 47), (41, 38), (12, 97), (14, 61), (30, 76), (24, 59), (62, 56), (67, 34), (90, 36), (43, 17), (65, 94)]\n",
      "1399.8148756281962\n"
     ]
    }
   ],
   "source": [
    "#HYPERPARAMTERS:\n",
    "POP_SIZE = 50       #size of each generation\n",
    "ELITISM = 2         #best n will automatically be in next generation\n",
    "MUTATE_RATE = 0.05  #probability of each gene getting mutated\n",
    "\n",
    "random.seed()   #remember to seed random, or you'll get the same results everytime you run your program\n",
    "a = run_generations(100, should_print=False)  #if you don't assign the output to something, it will spit out the array to console (in colab only, not in normal python)\n",
    "print(a[0])\n",
    "print(a[0].distance())"
   ]
  },
  {
   "cell_type": "markdown",
   "metadata": {},
   "source": [
    "# Develop Lineage"
   ]
  },
  {
   "cell_type": "code",
   "execution_count": 65,
   "metadata": {
    "collapsed": true
   },
   "outputs": [
    {
     "name": "stdout",
     "output_type": "stream",
     "text": [
      "Run 0:\n",
      "[(96, 93), (79, 75), (81, 73), (78, 65), (85, 58), (62, 56), (63, 47), (67, 34), (69, 24), (82, 19), (95, 12), (90, 36), (88, 39), (81, 40), (68, 45), (59, 50), (57, 49), (51, 44), (50, 36), (39, 39), (17, 52), (14, 61), (0, 66), (6, 51), (7, 0), (15, 8), (23, 18), (45, 14), (43, 17), (42, 27), (41, 38), (33, 52), (24, 59), (30, 76), (12, 97), (13, 98), (25, 90), (55, 86), (58, 90), (65, 94)]\n",
      "571.2383710064568\n",
      "Run 1:\n",
      "[(96, 93), (79, 75), (81, 73), (78, 65), (85, 58), (62, 56), (63, 47), (67, 34), (69, 24), (82, 19), (95, 12), (90, 36), (88, 39), (81, 40), (68, 45), (59, 50), (57, 49), (51, 44), (50, 36), (39, 39), (17, 52), (14, 61), (0, 66), (6, 51), (7, 0), (15, 8), (23, 18), (45, 14), (43, 17), (42, 27), (41, 38), (33, 52), (24, 59), (30, 76), (12, 97), (13, 98), (25, 90), (55, 86), (58, 90), (65, 94)]\n",
      "571.2383710064568\n",
      "Run 2:\n",
      "[(96, 93), (79, 75), (81, 73), (78, 65), (85, 58), (62, 56), (63, 47), (67, 34), (69, 24), (82, 19), (95, 12), (90, 36), (88, 39), (81, 40), (68, 45), (59, 50), (57, 49), (51, 44), (50, 36), (39, 39), (17, 52), (14, 61), (0, 66), (6, 51), (7, 0), (15, 8), (23, 18), (45, 14), (43, 17), (42, 27), (41, 38), (33, 52), (24, 59), (30, 76), (12, 97), (13, 98), (25, 90), (55, 86), (58, 90), (65, 94)]\n",
      "571.2383710064568\n",
      "Run 3:\n",
      "[(96, 93), (79, 75), (81, 73), (78, 65), (85, 58), (62, 56), (63, 47), (67, 34), (69, 24), (82, 19), (95, 12), (90, 36), (88, 39), (81, 40), (68, 45), (59, 50), (57, 49), (51, 44), (50, 36), (39, 39), (17, 52), (14, 61), (0, 66), (6, 51), (7, 0), (15, 8), (23, 18), (45, 14), (43, 17), (42, 27), (41, 38), (33, 52), (24, 59), (30, 76), (12, 97), (13, 98), (25, 90), (55, 86), (58, 90), (65, 94)]\n",
      "571.2383710064568\n",
      "Run 4:\n",
      "[(96, 93), (79, 75), (81, 73), (78, 65), (85, 58), (62, 56), (63, 47), (67, 34), (69, 24), (82, 19), (95, 12), (90, 36), (88, 39), (81, 40), (68, 45), (59, 50), (57, 49), (51, 44), (50, 36), (39, 39), (17, 52), (14, 61), (0, 66), (6, 51), (7, 0), (15, 8), (23, 18), (45, 14), (43, 17), (42, 27), (41, 38), (33, 52), (24, 59), (30, 76), (12, 97), (13, 98), (25, 90), (55, 86), (58, 90), (65, 94)]\n",
      "571.2383710064568\n",
      "Run 5:\n",
      "[(96, 93), (79, 75), (81, 73), (78, 65), (85, 58), (62, 56), (63, 47), (67, 34), (69, 24), (82, 19), (95, 12), (90, 36), (88, 39), (81, 40), (68, 45), (59, 50), (57, 49), (51, 44), (50, 36), (39, 39), (17, 52), (14, 61), (0, 66), (6, 51), (7, 0), (15, 8), (23, 18), (45, 14), (43, 17), (42, 27), (41, 38), (33, 52), (24, 59), (30, 76), (12, 97), (13, 98), (25, 90), (55, 86), (58, 90), (65, 94)]\n",
      "571.2383710064568\n",
      "Run 6:\n",
      "[(96, 93), (79, 75), (81, 73), (78, 65), (85, 58), (62, 56), (63, 47), (67, 34), (69, 24), (82, 19), (95, 12), (90, 36), (88, 39), (81, 40), (68, 45), (59, 50), (57, 49), (51, 44), (50, 36), (41, 38), (17, 52), (14, 61), (0, 66), (6, 51), (7, 0), (15, 8), (23, 18), (45, 14), (43, 17), (42, 27), (39, 39), (33, 52), (24, 59), (30, 76), (12, 97), (13, 98), (25, 90), (55, 86), (58, 90), (65, 94)]\n",
      "570.8044459396415\n",
      "Run 7:\n",
      "[(96, 93), (79, 75), (81, 73), (78, 65), (85, 58), (62, 56), (63, 47), (67, 34), (69, 24), (82, 19), (95, 12), (90, 36), (88, 39), (81, 40), (68, 45), (59, 50), (57, 49), (51, 44), (50, 36), (41, 38), (17, 52), (14, 61), (0, 66), (6, 51), (7, 0), (15, 8), (23, 18), (45, 14), (43, 17), (42, 27), (39, 39), (33, 52), (24, 59), (30, 76), (12, 97), (13, 98), (25, 90), (55, 86), (58, 90), (65, 94)]\n",
      "570.8044459396415\n",
      "Run 8:\n",
      "[(96, 93), (79, 75), (81, 73), (78, 65), (85, 58), (62, 56), (63, 47), (67, 34), (69, 24), (82, 19), (95, 12), (90, 36), (88, 39), (81, 40), (68, 45), (59, 50), (57, 49), (51, 44), (50, 36), (41, 38), (17, 52), (14, 61), (0, 66), (6, 51), (7, 0), (15, 8), (23, 18), (45, 14), (43, 17), (42, 27), (39, 39), (33, 52), (24, 59), (30, 76), (12, 97), (13, 98), (25, 90), (55, 86), (58, 90), (65, 94)]\n",
      "570.8044459396415\n",
      "Run 9:\n",
      "[(96, 93), (79, 75), (81, 73), (78, 65), (85, 58), (62, 56), (63, 47), (67, 34), (69, 24), (82, 19), (95, 12), (90, 36), (88, 39), (81, 40), (68, 45), (59, 50), (57, 49), (51, 44), (50, 36), (41, 38), (17, 52), (14, 61), (0, 66), (6, 51), (7, 0), (15, 8), (23, 18), (45, 14), (43, 17), (42, 27), (39, 39), (33, 52), (24, 59), (30, 76), (12, 97), (13, 98), (25, 90), (55, 86), (58, 90), (65, 94)]\n",
      "570.8044459396415\n"
     ]
    }
   ],
   "source": [
    "#HYPERPARAMTERS:\n",
    "POP_SIZE = 100       #size of each generation\n",
    "ELITISM = 10         #best n will automatically be in next generation\n",
    "MUTATE_RATE = 0.02  #probability of each gene getting mutated\n",
    "\n",
    "\n",
    "random.seed()\n",
    "start = [(96, 93), (79, 75), (81, 73), (78, 65), (85, 58), (62, 56), (63, 47), (67, 34), (69, 24), (82, 19), (95, 12), (90, 36), (88, 39), (81, 40), (68, 45), (59, 50), (57, 49), (51, 44), (50, 36), (39, 39), (17, 52), (14, 61), (0, 66), (6, 51), (7, 0), (15, 8), (23, 18), (45, 14), (43, 17), (42, 27), (41, 38), (33, 52), (24, 59), (30, 76), (12, 97), (13, 98), (25, 90), (55, 86), (58, 90), (65, 94)]\n",
    "in_route = Route(start)\n",
    "for i in range(10):\n",
    "    random.seed()\n",
    "    print(f\"Run {i}:\")\n",
    "    a = run_generations(1000, should_print=False, starters=[in_route])\n",
    "    in_route = a[0]\n",
    "    print(in_route)\n",
    "    print(in_route.distance())\n",
    "    "
   ]
  },
  {
   "cell_type": "markdown",
   "metadata": {},
   "source": [
    "# Combine Families"
   ]
  },
  {
   "cell_type": "code",
   "execution_count": 66,
   "metadata": {},
   "outputs": [
    {
     "name": "stdout",
     "output_type": "stream",
     "text": [
      "[(96, 93), (79, 75), (81, 73), (78, 65), (85, 58), (62, 56), (63, 47), (67, 34), (69, 24), (82, 19), (95, 12), (90, 36), (88, 39), (81, 40), (68, 45), (59, 50), (57, 49), (51, 44), (50, 36), (41, 38), (17, 52), (14, 61), (0, 66), (6, 51), (7, 0), (15, 8), (23, 18), (45, 14), (43, 17), (42, 27), (39, 39), (33, 52), (24, 59), (30, 76), (12, 97), (13, 98), (25, 90), (55, 86), (58, 90), (65, 94)]\n",
      "570.8044459396415\n"
     ]
    }
   ],
   "source": [
    "#example with brining in routes from other runs:\n",
    "random.seed()\n",
    "\n",
    "a=[(96, 93), (79, 75), (81, 73), (78, 65), (85, 58), (62, 56), (63, 47), (67, 34), (69, 24), (82, 19), (95, 12), (90, 36), (88, 39), (81, 40), (68, 45), (59, 50), (57, 49), (51, 44), (50, 36), (41, 38), (17, 52), (14, 61), (0, 66), (6, 51), (7, 0), (15, 8), (23, 18), (45, 14), (43, 17), (42, 27), (39, 39), (33, 52), (24, 59), (30, 76), (12, 97), (13, 98), (25, 90), (55, 86), (58, 90), (65, 94)]\n",
    "b=[(96, 93), (79, 75), (81, 73), (78, 65), (85, 58), (62, 56), (63, 47), (67, 34), (69, 24), (82, 19), (95, 12), (90, 36), (88, 39), (81, 40), (68, 45), (59, 50), (57, 49), (51, 44), (50, 36), (39, 39), (17, 52), (14, 61), (0, 66), (6, 51), (7, 0), (15, 8), (23, 18), (45, 14), (43, 17), (42, 27), (41, 38), (33, 52), (24, 59), (30, 76), (12, 97), (13, 98), (25, 90), (55, 86), (58, 90), (65, 94)]\n",
    "best_1 = Route(a)\n",
    "best_2 = Route(b)\n",
    "\n",
    "#a = run_generations(100, should_print=True, starters=starter_a)\n",
    "a = run_generations(10000, should_print=False, starters=[best_1,best_2])\n",
    "print(a[0])\n",
    "print(a[0].distance())"
   ]
  },
  {
   "cell_type": "code",
   "execution_count": 70,
   "metadata": {
    "colab": {
     "base_uri": "https://localhost:8080/"
    },
    "id": "bA4oyniXHk0-",
    "outputId": "64f6abb6-9113-43c5-a4a9-bf21a8c01804",
    "scrolled": true
   },
   "outputs": [
    {
     "name": "stdout",
     "output_type": "stream",
     "text": [
      "[(96, 93), (79, 75), (81, 73), (78, 65), (85, 58), (62, 56), (63, 47), (67, 34), (69, 24), (82, 19), (95, 12), (90, 36), (88, 39), (81, 40), (68, 45), (59, 50), (57, 49), (51, 44), (50, 36), (41, 38), (39, 39), (17, 52), (14, 61), (0, 66), (6, 51), (7, 0), (15, 8), (23, 18), (45, 14), (43, 17), (42, 27), (33, 52), (24, 59), (30, 76), (12, 97), (13, 98), (25, 90), (55, 86), (58, 90), (65, 94)]\n",
      "570.6930131876464\n"
     ]
    }
   ],
   "source": [
    "#HYPERPARAMTERS:\n",
    "POP_SIZE = 20       #size of each generation\n",
    "ELITISM = 10         #best n will automatically be in next generation\n",
    "MUTATE_RATE = 0.01  #probability of each gene getting mutated\n",
    "\n",
    "#example with brining in routes from other runs:\n",
    "random.seed()\n",
    "\n",
    "a=[(96, 93), (79, 75), (81, 73), (78, 65), (85, 58), (62, 56), (63, 47), (67, 34), (69, 24), (82, 19), (95, 12), (90, 36), (88, 39), (81, 40), (68, 45), (59, 50), (57, 49), (51, 44), (50, 36), (39, 39), (17, 52), (14, 61), (0, 66), (6, 51), (7, 0), (15, 8), (23, 18), (45, 14), (43, 17), (42, 27), (41, 38), (33, 52), (24, 59), (30, 76), (12, 97), (13, 98), (25, 90), (55, 86), (58, 90), (65, 94)]\n",
    "b=[(96, 93), (79, 75), (81, 73), (78, 65), (85, 58), (62, 56), (63, 47), (67, 34), (69, 24), (82, 19), (95, 12), (90, 36), (88, 39), (81, 40), (68, 45), (59, 50), (57, 49), (51, 44), (50, 36), (41, 38), (17, 52), (14, 61), (0, 66), (6, 51), (7, 0), (15, 8), (23, 18), (45, 14), (43, 17), (42, 27), (39, 39), (33, 52), (24, 59), (30, 76), (12, 97), (13, 98), (25, 90), (55, 86), (58, 90), (65, 94)]\n",
    "best_1 = Route(a)\n",
    "best_2 = Route(b)\n",
    "\n",
    "#a = run_generations(100, should_print=True, starters=starter_a)\n",
    "a = run_generations(10000, should_print=False, starters=[best_1,best_2])\n",
    "print(a[0])\n",
    "print(a[0].distance())"
   ]
  },
  {
   "cell_type": "markdown",
   "metadata": {},
   "source": [
    "First Lineage \n",
    "[(96, 93), (79, 75), (81, 73), (78, 65), (85, 58), (62, 56), (63, 47), (67, 34), (69, 24), (82, 19), (95, 12), (90, 36), (88, 39), (81, 40), (68, 45), (59, 50), (57, 49), (51, 44), (50, 36), (33, 52), (17, 52), (14, 61), (0, 66), (6, 51), (7, 0), (15, 8), (23, 18), (45, 14), (43, 17), (42, 27), (41, 38), (39, 39), (24, 59), (30, 76), (12, 97), (13, 98), (25, 90), (55, 86), (58, 90), (65, 94)]\n",
    "573.3377853668728\n",
    "\n",
    "[(96, 93), (79, 75), (81, 73), (78, 65), (85, 58), (62, 56), (63, 47), (67, 34), (69, 24), (82, 19), (95, 12), (90, 36), (88, 39), (81, 40), (68, 45), (59, 50), (57, 49), (51, 44), (50, 36), (39, 39), (17, 52), (14, 61), (0, 66), (6, 51), (7, 0), (15, 8), (23, 18), (45, 14), (43, 17), (42, 27), (41, 38), (33, 52), (24, 59), (30, 76), (12, 97), (13, 98), (25, 90), (55, 86), (58, 90), (65, 94)]\n",
    "571.2383710064568\n",
    "\n",
    "\n",
    "New Lineage: \n",
    "\n",
    "\n",
    "[(96, 93), (79, 75), (81, 73), (78, 65), (85, 58), (62, 56), (63, 47), (67, 34), (69, 24), (82, 19), (95, 12), (90, 36), (88, 39), (81, 40), (68, 45), (59, 50), (57, 49), (51, 44), (50, 36), (39, 39), (17, 52), (14, 61), (0, 66), (6, 51), (7, 0), (15, 8), (23, 18), (45, 14), (43, 17), (42, 27), (41, 38), (33, 52), (24, 59), (30, 76), (12, 97), (13, 98), (25, 90), (55, 86), (58, 90), (65, 94)]\n",
    "571.2383710064568\n",
    "\n",
    "[(96, 93), (79, 75), (81, 73), (78, 65), (85, 58), (62, 56), (63, 47), (67, 34), (69, 24), (82, 19), (95, 12), (90, 36), (88, 39), (81, 40), (68, 45), (59, 50), (57, 49), (51, 44), (50, 36), (41, 38), (17, 52), (14, 61), (0, 66), (6, 51), (7, 0), (15, 8), (23, 18), (45, 14), (43, 17), (42, 27), (39, 39), (33, 52), (24, 59), (30, 76), (12, 97), (13, 98), (25, 90), (55, 86), (58, 90), (65, 94)]\n",
    "570.8044459396415\n",
    "\n",
    "Best Distance: 570.8044459396415\n",
    "[(96, 93), (79, 75), (81, 73), (78, 65), (85, 58), (62, 56), (63, 47), (67, 34), (69, 24), (82, 19), (95, 12), (90, 36), (88, 39), (81, 40), (68, 45), (59, 50), (57, 49), (51, 44), (50, 36), (41, 38), (17, 52), (14, 61), (0, 66), (6, 51), (7, 0), (15, 8), (23, 18), (45, 14), (43, 17), (42, 27), (39, 39), (33, 52), (24, 59), (30, 76), (12, 97), (13, 98), (25, 90), (55, 86), (58, 90), (65, 94)]\n"
   ]
  }
 ],
 "metadata": {
  "colab": {
   "name": "3-8 Genetic Algorithms.ipynb",
   "provenance": []
  },
  "kernelspec": {
   "display_name": "Python 3 (ipykernel)",
   "language": "python",
   "name": "python3"
  },
  "language_info": {
   "codemirror_mode": {
    "name": "ipython",
    "version": 3
   },
   "file_extension": ".py",
   "mimetype": "text/x-python",
   "name": "python",
   "nbconvert_exporter": "python",
   "pygments_lexer": "ipython3",
   "version": "3.9.6"
  }
 },
 "nbformat": 4,
 "nbformat_minor": 1
}
