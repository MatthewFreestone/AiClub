{
 "cells": [
  {
   "cell_type": "code",
   "execution_count": 1,
   "metadata": {},
   "outputs": [
    {
     "name": "stdout",
     "output_type": "stream",
     "text": [
      "Downloading data from https://storage.googleapis.com/tensorflow/tf-keras-datasets/mnist.npz\n",
      "11493376/11490434 [==============================] - 0s 0us/step\n"
     ]
    }
   ],
   "source": [
    "from tensorflow import keras\n",
    "import numpy as np\n",
    "import matplotlib.pyplot as plt\n",
    "\n",
    "mnist = keras.datasets.mnist\n",
    "(x_train,y_train), (x_test, y_test) = mnist.load_data()\n",
    "x_train = x_train.astype('float32')\n",
    "x_test = x_test.astype('float32')\n",
    "x_train /= 255.0\n",
    "x_test /= 255.0"
   ]
  },
  {
   "cell_type": "code",
   "execution_count": 2,
   "metadata": {
    "scrolled": true
   },
   "outputs": [
    {
     "name": "stdout",
     "output_type": "stream",
     "text": [
      "Model: \"sequential\"\n",
      "_________________________________________________________________\n",
      "Layer (type)                 Output Shape              Param #   \n",
      "=================================================================\n",
      "flatten (Flatten)            (None, 784)               0         \n",
      "_________________________________________________________________\n",
      "dense (Dense)                (None, 64)                50240     \n",
      "_________________________________________________________________\n",
      "dense_1 (Dense)              (None, 32)                2080      \n",
      "_________________________________________________________________\n",
      "dense_2 (Dense)              (None, 10)                330       \n",
      "=================================================================\n",
      "Total params: 52,650\n",
      "Trainable params: 52,650\n",
      "Non-trainable params: 0\n",
      "_________________________________________________________________\n"
     ]
    }
   ],
   "source": [
    "model = keras.models.Sequential()\n",
    "model.add(keras.layers.Flatten(input_shape = (28,28)))\n",
    "model.add(keras.layers.Dense(64, activation=\"relu\"))\n",
    "model.add(keras.layers.Dense(32, activation=\"relu\"))\n",
    "model.add(keras.layers.Dense(10, activation='softmax'))\n",
    "\n",
    "model.compile(optimizer=\"adam\",loss=\"sparse_categorical_crossentropy\",metrics=[\"accuracy\"])\n",
    "\n",
    "model.summary()"
   ]
  },
  {
   "cell_type": "code",
   "execution_count": 3,
   "metadata": {
    "scrolled": false
   },
   "outputs": [
    {
     "name": "stdout",
     "output_type": "stream",
     "text": [
      "Epoch 1/50\n",
      "54/54 [==============================] - 0s 6ms/step - loss: 1.1533 - accuracy: 0.6900 - val_loss: 0.3791 - val_accuracy: 0.9072\n",
      "Epoch 2/50\n",
      "54/54 [==============================] - 0s 4ms/step - loss: 0.3579 - accuracy: 0.9012 - val_loss: 0.2436 - val_accuracy: 0.9330\n",
      "Epoch 3/50\n",
      "54/54 [==============================] - 0s 4ms/step - loss: 0.2746 - accuracy: 0.9216 - val_loss: 0.2029 - val_accuracy: 0.9465\n",
      "Epoch 4/50\n",
      "54/54 [==============================] - 0s 4ms/step - loss: 0.2303 - accuracy: 0.9344 - val_loss: 0.1789 - val_accuracy: 0.9515\n",
      "Epoch 5/50\n",
      "54/54 [==============================] - 0s 4ms/step - loss: 0.2005 - accuracy: 0.9425 - val_loss: 0.1604 - val_accuracy: 0.9578\n",
      "Epoch 6/50\n",
      "54/54 [==============================] - 0s 4ms/step - loss: 0.1756 - accuracy: 0.9496 - val_loss: 0.1434 - val_accuracy: 0.9615\n",
      "Epoch 7/50\n",
      "54/54 [==============================] - 0s 4ms/step - loss: 0.1565 - accuracy: 0.9550 - val_loss: 0.1361 - val_accuracy: 0.9617\n",
      "Epoch 8/50\n",
      "54/54 [==============================] - 0s 4ms/step - loss: 0.1423 - accuracy: 0.9590 - val_loss: 0.1303 - val_accuracy: 0.9628\n",
      "Epoch 9/50\n",
      "54/54 [==============================] - 0s 4ms/step - loss: 0.1297 - accuracy: 0.9629 - val_loss: 0.1218 - val_accuracy: 0.9628\n",
      "Epoch 10/50\n",
      "54/54 [==============================] - 0s 4ms/step - loss: 0.1187 - accuracy: 0.9657 - val_loss: 0.1183 - val_accuracy: 0.9658\n",
      "Epoch 11/50\n",
      "54/54 [==============================] - 0s 4ms/step - loss: 0.1103 - accuracy: 0.9682 - val_loss: 0.1120 - val_accuracy: 0.9675\n",
      "Epoch 12/50\n",
      "54/54 [==============================] - 0s 4ms/step - loss: 0.1024 - accuracy: 0.9707 - val_loss: 0.1081 - val_accuracy: 0.9687\n",
      "Epoch 13/50\n",
      "54/54 [==============================] - 0s 4ms/step - loss: 0.0955 - accuracy: 0.9724 - val_loss: 0.1061 - val_accuracy: 0.9680\n",
      "Epoch 14/50\n",
      "54/54 [==============================] - 0s 4ms/step - loss: 0.0898 - accuracy: 0.9738 - val_loss: 0.1063 - val_accuracy: 0.9678\n",
      "Epoch 15/50\n",
      "54/54 [==============================] - 0s 4ms/step - loss: 0.0850 - accuracy: 0.9757 - val_loss: 0.1027 - val_accuracy: 0.9682\n",
      "Epoch 16/50\n",
      "54/54 [==============================] - 0s 4ms/step - loss: 0.0801 - accuracy: 0.9768 - val_loss: 0.0989 - val_accuracy: 0.9712\n",
      "Epoch 17/50\n",
      "54/54 [==============================] - 0s 4ms/step - loss: 0.0750 - accuracy: 0.9781 - val_loss: 0.0972 - val_accuracy: 0.9707\n",
      "Epoch 18/50\n",
      "54/54 [==============================] - 0s 4ms/step - loss: 0.0713 - accuracy: 0.9790 - val_loss: 0.0971 - val_accuracy: 0.9697\n",
      "Epoch 19/50\n",
      "54/54 [==============================] - 0s 4ms/step - loss: 0.0666 - accuracy: 0.9807 - val_loss: 0.0971 - val_accuracy: 0.9708\n",
      "Epoch 20/50\n",
      "54/54 [==============================] - 0s 4ms/step - loss: 0.0631 - accuracy: 0.9823 - val_loss: 0.0975 - val_accuracy: 0.9700\n",
      "Epoch 21/50\n",
      "54/54 [==============================] - 0s 4ms/step - loss: 0.0594 - accuracy: 0.9829 - val_loss: 0.0958 - val_accuracy: 0.9712\n",
      "Epoch 22/50\n",
      "54/54 [==============================] - 0s 4ms/step - loss: 0.0560 - accuracy: 0.9843 - val_loss: 0.0926 - val_accuracy: 0.9715\n",
      "Epoch 23/50\n",
      "54/54 [==============================] - 0s 4ms/step - loss: 0.0521 - accuracy: 0.9853 - val_loss: 0.0921 - val_accuracy: 0.9715\n",
      "Epoch 24/50\n",
      "54/54 [==============================] - 0s 4ms/step - loss: 0.0502 - accuracy: 0.9856 - val_loss: 0.0913 - val_accuracy: 0.9723\n",
      "Epoch 25/50\n",
      "54/54 [==============================] - 0s 4ms/step - loss: 0.0474 - accuracy: 0.9867 - val_loss: 0.0899 - val_accuracy: 0.9722\n",
      "Epoch 26/50\n",
      "54/54 [==============================] - 0s 4ms/step - loss: 0.0448 - accuracy: 0.9878 - val_loss: 0.0921 - val_accuracy: 0.9718\n",
      "Epoch 27/50\n",
      "54/54 [==============================] - 0s 4ms/step - loss: 0.0428 - accuracy: 0.9881 - val_loss: 0.0906 - val_accuracy: 0.9732\n",
      "Epoch 28/50\n",
      "54/54 [==============================] - 0s 4ms/step - loss: 0.0400 - accuracy: 0.9896 - val_loss: 0.0909 - val_accuracy: 0.9733\n",
      "Epoch 29/50\n",
      "54/54 [==============================] - 0s 4ms/step - loss: 0.0384 - accuracy: 0.9898 - val_loss: 0.0903 - val_accuracy: 0.9727\n",
      "Epoch 30/50\n",
      "54/54 [==============================] - 0s 4ms/step - loss: 0.0359 - accuracy: 0.9904 - val_loss: 0.0907 - val_accuracy: 0.9728\n",
      "Epoch 31/50\n",
      "54/54 [==============================] - 0s 4ms/step - loss: 0.0345 - accuracy: 0.9910 - val_loss: 0.0918 - val_accuracy: 0.9733\n",
      "Epoch 32/50\n",
      "54/54 [==============================] - 0s 4ms/step - loss: 0.0322 - accuracy: 0.9920 - val_loss: 0.0925 - val_accuracy: 0.9743\n",
      "Epoch 33/50\n",
      "54/54 [==============================] - 0s 4ms/step - loss: 0.0309 - accuracy: 0.9922 - val_loss: 0.0930 - val_accuracy: 0.9733\n",
      "Epoch 34/50\n",
      "54/54 [==============================] - 0s 4ms/step - loss: 0.0290 - accuracy: 0.9929 - val_loss: 0.0911 - val_accuracy: 0.9740\n",
      "Epoch 35/50\n",
      "54/54 [==============================] - 0s 4ms/step - loss: 0.0276 - accuracy: 0.9932 - val_loss: 0.0927 - val_accuracy: 0.9737\n",
      "Epoch 36/50\n",
      "54/54 [==============================] - 0s 4ms/step - loss: 0.0262 - accuracy: 0.9941 - val_loss: 0.0927 - val_accuracy: 0.9725\n",
      "Epoch 37/50\n",
      "54/54 [==============================] - 0s 4ms/step - loss: 0.0248 - accuracy: 0.9944 - val_loss: 0.0942 - val_accuracy: 0.9747\n",
      "Epoch 38/50\n",
      "54/54 [==============================] - 0s 4ms/step - loss: 0.0233 - accuracy: 0.9949 - val_loss: 0.0951 - val_accuracy: 0.9748\n",
      "Epoch 39/50\n",
      "54/54 [==============================] - 0s 4ms/step - loss: 0.0227 - accuracy: 0.9949 - val_loss: 0.0985 - val_accuracy: 0.9737\n",
      "Epoch 40/50\n",
      "54/54 [==============================] - 0s 4ms/step - loss: 0.0216 - accuracy: 0.9953 - val_loss: 0.0947 - val_accuracy: 0.9740\n",
      "Epoch 41/50\n",
      "54/54 [==============================] - 0s 4ms/step - loss: 0.0199 - accuracy: 0.9957 - val_loss: 0.0948 - val_accuracy: 0.9735\n",
      "Epoch 42/50\n",
      "54/54 [==============================] - 0s 4ms/step - loss: 0.0187 - accuracy: 0.9961 - val_loss: 0.0952 - val_accuracy: 0.9748\n",
      "Epoch 43/50\n",
      "54/54 [==============================] - 0s 4ms/step - loss: 0.0176 - accuracy: 0.9969 - val_loss: 0.0981 - val_accuracy: 0.9737\n",
      "Epoch 44/50\n",
      "54/54 [==============================] - 0s 4ms/step - loss: 0.0172 - accuracy: 0.9965 - val_loss: 0.0999 - val_accuracy: 0.9735\n",
      "Epoch 45/50\n",
      "54/54 [==============================] - 0s 4ms/step - loss: 0.0165 - accuracy: 0.9969 - val_loss: 0.0974 - val_accuracy: 0.9743\n",
      "Epoch 46/50\n",
      "54/54 [==============================] - 0s 4ms/step - loss: 0.0155 - accuracy: 0.9970 - val_loss: 0.1016 - val_accuracy: 0.9745\n",
      "Epoch 47/50\n",
      "54/54 [==============================] - 0s 4ms/step - loss: 0.0146 - accuracy: 0.9975 - val_loss: 0.1051 - val_accuracy: 0.9732\n",
      "Epoch 48/50\n",
      "54/54 [==============================] - 0s 4ms/step - loss: 0.0152 - accuracy: 0.9969 - val_loss: 0.1025 - val_accuracy: 0.9750\n",
      "Epoch 49/50\n",
      "54/54 [==============================] - 0s 4ms/step - loss: 0.0137 - accuracy: 0.9976 - val_loss: 0.1014 - val_accuracy: 0.9747\n",
      "Epoch 50/50\n",
      "54/54 [==============================] - 0s 4ms/step - loss: 0.0124 - accuracy: 0.9982 - val_loss: 0.1030 - val_accuracy: 0.9750\n"
     ]
    }
   ],
   "source": [
    "history = model.fit(x_train, y_train, validation_split=0.1, epochs=50, batch_size=1000)"
   ]
  },
  {
   "cell_type": "code",
   "execution_count": 4,
   "metadata": {
    "scrolled": true
   },
   "outputs": [
    {
     "name": "stdout",
     "output_type": "stream",
     "text": [
      "313/313 - 0s - loss: 0.1034 - accuracy: 0.9730\n"
     ]
    }
   ],
   "source": [
    "(test_loss, test_accuracy) = model.evaluate(x_test, y_test, verbose=2)"
   ]
  },
  {
   "cell_type": "code",
   "execution_count": 5,
   "metadata": {},
   "outputs": [
    {
     "name": "stdout",
     "output_type": "stream",
     "text": [
      "9730 classified correctly\n",
      "270 classified incorrectly\n"
     ]
    },
    {
     "data": {
      "image/png": "[encoded data removed]",
      "text/plain": [
       "<Figure size 504x1008 with 18 Axes>"
      ]
     },
     "metadata": {},
     "output_type": "display_data"
    }
   ],
   "source": [
    "predicted_classes = np.argmax(model.predict(x_test), axis=-1)\n",
    "correct_indices = np.nonzero(predicted_classes == y_test)[0]\n",
    "incorrect_indices = np.nonzero(predicted_classes != y_test)[0]\n",
    "print(len(correct_indices),\"classified correctly\")\n",
    "print(len(incorrect_indices),\"classified incorrectly\")\n",
    "\n",
    "plt.rcParams['figure.figsize'] = (7,14)\n",
    "figure_evaluation = plt.figure()\n",
    "\n",
    "for i, correct in enumerate(correct_indices[:9]):\n",
    "    plt.subplot(6,3,i+1)\n",
    "    plt.imshow(x_test[correct].reshape(28,28), cmap='gray', interpolation='none')\n",
    "    plt.title(\n",
    "      \"Predicted: {}, Truth: {}\".format(predicted_classes[correct],\n",
    "                                        y_test[correct]))\n",
    "    plt.xticks([])\n",
    "    plt.yticks([])\n",
    "\n",
    "for i, incorrect in enumerate(incorrect_indices[:9]):\n",
    "    plt.subplot(6,3,i+10)\n",
    "    plt.imshow(x_test[incorrect].reshape(28,28), cmap='gray', interpolation='none')\n",
    "    plt.title(\n",
    "      \"Predicted {}, Truth: {}\".format(predicted_classes[incorrect], \n",
    "                                       y_test[incorrect]))\n",
    "    plt.xticks([])\n",
    "    plt.yticks([])"
   ]
  }
 ],
 "metadata": {
  "kernelspec": {
   "display_name": "Python 3",
   "language": "python",
   "name": "python3"
  },
  "language_info": {
   "codemirror_mode": {
    "name": "ipython",
    "version": 3
   },
   "file_extension": ".py",
   "mimetype": "text/x-python",
   "name": "python",
   "nbconvert_exporter": "python",
   "pygments_lexer": "ipython3",
   "version": "3.8.5"
  }
 },
 "nbformat": 4,
 "nbformat_minor": 4
}
